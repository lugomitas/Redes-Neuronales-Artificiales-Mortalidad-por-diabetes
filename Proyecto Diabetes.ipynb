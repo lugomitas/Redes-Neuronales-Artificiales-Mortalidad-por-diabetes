{
 "cells": [
  {
   "cell_type": "markdown",
   "metadata": {},
   "source": [
    "<font size=5 color='blue'>\n",
    "Información sobre el problema a resolver"
   ]
  },
  {
   "cell_type": "markdown",
   "metadata": {},
   "source": [
    "<font size=4>\n",
    "\n",
    "Evolución de la enfermedad de pacientes con Diabetes Mellitus despues de un año.\n",
    "    \n",
    "En el presente trabajo, la diabetes la caracterizamos con los siguientes diez rasgos: edad, sexo, índice de masa corporal, presión arterial promedio y seis mediciones de suero sanguíneo:\n",
    "\n",
    "     Colesterol Total \n",
    "     Baja densidad de liporoteinas\n",
    "     Alta densidad de lipoproteinas\n",
    "     Triglicéridos\n",
    "     Concentración de Lamorigina\n",
    "     Glucosa"
   ]
  },
  {
   "cell_type": "markdown",
   "metadata": {},
   "source": [
    "<font size=5 color='blue'>\n",
    "    \n",
    "Cuantificación de esta información"
   ]
  },
  {
   "cell_type": "markdown",
   "metadata": {},
   "source": [
    "<font size=4>\n",
    "\n",
    "Se tienen información de 442 pacientes (m = 442). La respuesta de interés, Y, es una medida cuantitativa de la progresión de la enfermedad un año después del inicio del estudio. Los valores de Y varían entre 25 y 346\n",
    "\n",
    "Fuente de la información: [diabetes data](https://www4.stat.ncsu.edu/~boos/var.select/diabetes.html)    Artículo original: [Least-Angle-Regression_2004](./Literatura/Least-Angle-Regression_2004.pdf)"
   ]
  },
  {
   "cell_type": "code",
   "execution_count": 1,
   "metadata": {
    "ExecuteTime": {
     "end_time": "2020-10-19T12:30:23.916483Z",
     "start_time": "2020-10-19T12:30:23.496513Z"
    }
   },
   "outputs": [],
   "source": [
    "import pandas as pd\n",
    "import numpy as np\n",
    "import matplotlib.pyplot as plt\n",
    "import time\n",
    "\n",
    "np.random.seed(1)"
   ]
  },
  {
   "cell_type": "code",
   "execution_count": 2,
   "metadata": {
    "ExecuteTime": {
     "end_time": "2020-10-19T12:30:23.924252Z",
     "start_time": "2020-10-19T12:30:23.918002Z"
    }
   },
   "outputs": [],
   "source": [
    "# Los datos se encuentran el el archivo diabetes.csv\n",
    "\n",
    "df = pd.read_csv('diabetes.csv', sep ='\\t')\n",
    "\n",
    "# se crea el dataframe df, el cual contiene los 10 rasgos relevantes de los pacientes\n",
    "# diabeticos, así como el progreso (y) de la enfermedad un año después de comenzado el estudio. "
   ]
  },
  {
   "cell_type": "code",
   "execution_count": 3,
   "metadata": {
    "ExecuteTime": {
     "end_time": "2020-10-19T12:30:23.944167Z",
     "start_time": "2020-10-19T12:30:23.926085Z"
    }
   },
   "outputs": [
    {
     "data": {
      "text/html": [
       "<div>\n",
       "<style scoped>\n",
       "    .dataframe tbody tr th:only-of-type {\n",
       "        vertical-align: middle;\n",
       "    }\n",
       "\n",
       "    .dataframe tbody tr th {\n",
       "        vertical-align: top;\n",
       "    }\n",
       "\n",
       "    .dataframe thead th {\n",
       "        text-align: right;\n",
       "    }\n",
       "</style>\n",
       "<table border=\"1\" class=\"dataframe\">\n",
       "  <thead>\n",
       "    <tr style=\"text-align: right;\">\n",
       "      <th></th>\n",
       "      <th>AGE</th>\n",
       "      <th>SEX</th>\n",
       "      <th>BMI</th>\n",
       "      <th>BP</th>\n",
       "      <th>S1</th>\n",
       "      <th>S2</th>\n",
       "      <th>S3</th>\n",
       "      <th>S4</th>\n",
       "      <th>S5</th>\n",
       "      <th>S6</th>\n",
       "      <th>Y</th>\n",
       "    </tr>\n",
       "  </thead>\n",
       "  <tbody>\n",
       "    <tr>\n",
       "      <th>0</th>\n",
       "      <td>59</td>\n",
       "      <td>2</td>\n",
       "      <td>32.1</td>\n",
       "      <td>101.0</td>\n",
       "      <td>157</td>\n",
       "      <td>93.2</td>\n",
       "      <td>38.0</td>\n",
       "      <td>4.0</td>\n",
       "      <td>4.8598</td>\n",
       "      <td>87</td>\n",
       "      <td>151</td>\n",
       "    </tr>\n",
       "    <tr>\n",
       "      <th>1</th>\n",
       "      <td>48</td>\n",
       "      <td>1</td>\n",
       "      <td>21.6</td>\n",
       "      <td>87.0</td>\n",
       "      <td>183</td>\n",
       "      <td>103.2</td>\n",
       "      <td>70.0</td>\n",
       "      <td>3.0</td>\n",
       "      <td>3.8918</td>\n",
       "      <td>69</td>\n",
       "      <td>75</td>\n",
       "    </tr>\n",
       "    <tr>\n",
       "      <th>2</th>\n",
       "      <td>72</td>\n",
       "      <td>2</td>\n",
       "      <td>30.5</td>\n",
       "      <td>93.0</td>\n",
       "      <td>156</td>\n",
       "      <td>93.6</td>\n",
       "      <td>41.0</td>\n",
       "      <td>4.0</td>\n",
       "      <td>4.6728</td>\n",
       "      <td>85</td>\n",
       "      <td>141</td>\n",
       "    </tr>\n",
       "    <tr>\n",
       "      <th>3</th>\n",
       "      <td>24</td>\n",
       "      <td>1</td>\n",
       "      <td>25.3</td>\n",
       "      <td>84.0</td>\n",
       "      <td>198</td>\n",
       "      <td>131.4</td>\n",
       "      <td>40.0</td>\n",
       "      <td>5.0</td>\n",
       "      <td>4.8903</td>\n",
       "      <td>89</td>\n",
       "      <td>206</td>\n",
       "    </tr>\n",
       "    <tr>\n",
       "      <th>4</th>\n",
       "      <td>50</td>\n",
       "      <td>1</td>\n",
       "      <td>23.0</td>\n",
       "      <td>101.0</td>\n",
       "      <td>192</td>\n",
       "      <td>125.4</td>\n",
       "      <td>52.0</td>\n",
       "      <td>4.0</td>\n",
       "      <td>4.2905</td>\n",
       "      <td>80</td>\n",
       "      <td>135</td>\n",
       "    </tr>\n",
       "  </tbody>\n",
       "</table>\n",
       "</div>"
      ],
      "text/plain": [
       "   AGE  SEX   BMI     BP   S1     S2    S3   S4      S5  S6    Y\n",
       "0   59    2  32.1  101.0  157   93.2  38.0  4.0  4.8598  87  151\n",
       "1   48    1  21.6   87.0  183  103.2  70.0  3.0  3.8918  69   75\n",
       "2   72    2  30.5   93.0  156   93.6  41.0  4.0  4.6728  85  141\n",
       "3   24    1  25.3   84.0  198  131.4  40.0  5.0  4.8903  89  206\n",
       "4   50    1  23.0  101.0  192  125.4  52.0  4.0  4.2905  80  135"
      ]
     },
     "execution_count": 3,
     "metadata": {},
     "output_type": "execute_result"
    }
   ],
   "source": [
    "# Se despliegan las primeras 5 muestras (rasgos, objetivo)\n",
    "\n",
    "df.head()"
   ]
  },
  {
   "cell_type": "markdown",
   "metadata": {},
   "source": [
    "<font size=4>\n",
    "Las abreviaciones tienen el siguiente significado:\n",
    "    \n",
    "    AGE = Age\n",
    "    SEX = Sex\n",
    "    BMI = Body Mass Index (BMI)\n",
    "     BP = Mean Arterial Pressure (MAP)\n",
    "     S1 = Total Cholesterol (TC)\n",
    "     S2 = Low Density lipoproteins (LDL)\n",
    "     S3 = High Density lipoproteins (HDL)\n",
    "     S4 = Triglyceride (TG, TCH)\n",
    "     S5 = Serum Concentration of Lamorigine (LTG)\n",
    "     S6 = Glucose (GLU)\n",
    "     Y = Quantitative Measure of Diabetes Mellitus Disease Progression (QMDMDP) one year after the baseline."
   ]
  },
  {
   "cell_type": "code",
   "execution_count": 4,
   "metadata": {
    "ExecuteTime": {
     "end_time": "2020-10-19T12:30:24.001227Z",
     "start_time": "2020-10-19T12:30:23.946501Z"
    }
   },
   "outputs": [
    {
     "data": {
      "text/html": [
       "<div>\n",
       "<style scoped>\n",
       "    .dataframe tbody tr th:only-of-type {\n",
       "        vertical-align: middle;\n",
       "    }\n",
       "\n",
       "    .dataframe tbody tr th {\n",
       "        vertical-align: top;\n",
       "    }\n",
       "\n",
       "    .dataframe thead th {\n",
       "        text-align: right;\n",
       "    }\n",
       "</style>\n",
       "<table border=\"1\" class=\"dataframe\">\n",
       "  <thead>\n",
       "    <tr style=\"text-align: right;\">\n",
       "      <th></th>\n",
       "      <th>AGE</th>\n",
       "      <th>SEX</th>\n",
       "      <th>BMI</th>\n",
       "      <th>BP</th>\n",
       "      <th>S1</th>\n",
       "      <th>S2</th>\n",
       "      <th>S3</th>\n",
       "      <th>S4</th>\n",
       "      <th>S5</th>\n",
       "      <th>S6</th>\n",
       "      <th>Y</th>\n",
       "    </tr>\n",
       "  </thead>\n",
       "  <tbody>\n",
       "    <tr>\n",
       "      <th>count</th>\n",
       "      <td>442.000000</td>\n",
       "      <td>442.000000</td>\n",
       "      <td>442.000000</td>\n",
       "      <td>442.000000</td>\n",
       "      <td>442.000000</td>\n",
       "      <td>442.000000</td>\n",
       "      <td>442.000000</td>\n",
       "      <td>442.000000</td>\n",
       "      <td>442.000000</td>\n",
       "      <td>442.000000</td>\n",
       "      <td>442.000000</td>\n",
       "    </tr>\n",
       "    <tr>\n",
       "      <th>mean</th>\n",
       "      <td>48.518100</td>\n",
       "      <td>1.468326</td>\n",
       "      <td>26.375792</td>\n",
       "      <td>94.647014</td>\n",
       "      <td>189.140271</td>\n",
       "      <td>115.439140</td>\n",
       "      <td>49.788462</td>\n",
       "      <td>4.070249</td>\n",
       "      <td>4.641411</td>\n",
       "      <td>91.260181</td>\n",
       "      <td>152.133484</td>\n",
       "    </tr>\n",
       "    <tr>\n",
       "      <th>std</th>\n",
       "      <td>13.109028</td>\n",
       "      <td>0.499561</td>\n",
       "      <td>4.418122</td>\n",
       "      <td>13.831283</td>\n",
       "      <td>34.608052</td>\n",
       "      <td>30.413081</td>\n",
       "      <td>12.934202</td>\n",
       "      <td>1.290450</td>\n",
       "      <td>0.522391</td>\n",
       "      <td>11.496335</td>\n",
       "      <td>77.093005</td>\n",
       "    </tr>\n",
       "    <tr>\n",
       "      <th>min</th>\n",
       "      <td>19.000000</td>\n",
       "      <td>1.000000</td>\n",
       "      <td>18.000000</td>\n",
       "      <td>62.000000</td>\n",
       "      <td>97.000000</td>\n",
       "      <td>41.600000</td>\n",
       "      <td>22.000000</td>\n",
       "      <td>2.000000</td>\n",
       "      <td>3.258100</td>\n",
       "      <td>58.000000</td>\n",
       "      <td>25.000000</td>\n",
       "    </tr>\n",
       "    <tr>\n",
       "      <th>25%</th>\n",
       "      <td>38.250000</td>\n",
       "      <td>1.000000</td>\n",
       "      <td>23.200000</td>\n",
       "      <td>84.000000</td>\n",
       "      <td>164.250000</td>\n",
       "      <td>96.050000</td>\n",
       "      <td>40.250000</td>\n",
       "      <td>3.000000</td>\n",
       "      <td>4.276700</td>\n",
       "      <td>83.250000</td>\n",
       "      <td>87.000000</td>\n",
       "    </tr>\n",
       "    <tr>\n",
       "      <th>50%</th>\n",
       "      <td>50.000000</td>\n",
       "      <td>1.000000</td>\n",
       "      <td>25.700000</td>\n",
       "      <td>93.000000</td>\n",
       "      <td>186.000000</td>\n",
       "      <td>113.000000</td>\n",
       "      <td>48.000000</td>\n",
       "      <td>4.000000</td>\n",
       "      <td>4.620050</td>\n",
       "      <td>91.000000</td>\n",
       "      <td>140.500000</td>\n",
       "    </tr>\n",
       "    <tr>\n",
       "      <th>75%</th>\n",
       "      <td>59.000000</td>\n",
       "      <td>2.000000</td>\n",
       "      <td>29.275000</td>\n",
       "      <td>105.000000</td>\n",
       "      <td>209.750000</td>\n",
       "      <td>134.500000</td>\n",
       "      <td>57.750000</td>\n",
       "      <td>5.000000</td>\n",
       "      <td>4.997200</td>\n",
       "      <td>98.000000</td>\n",
       "      <td>211.500000</td>\n",
       "    </tr>\n",
       "    <tr>\n",
       "      <th>max</th>\n",
       "      <td>79.000000</td>\n",
       "      <td>2.000000</td>\n",
       "      <td>42.200000</td>\n",
       "      <td>133.000000</td>\n",
       "      <td>301.000000</td>\n",
       "      <td>242.400000</td>\n",
       "      <td>99.000000</td>\n",
       "      <td>9.090000</td>\n",
       "      <td>6.107000</td>\n",
       "      <td>124.000000</td>\n",
       "      <td>346.000000</td>\n",
       "    </tr>\n",
       "  </tbody>\n",
       "</table>\n",
       "</div>"
      ],
      "text/plain": [
       "              AGE         SEX         BMI          BP          S1          S2  \\\n",
       "count  442.000000  442.000000  442.000000  442.000000  442.000000  442.000000   \n",
       "mean    48.518100    1.468326   26.375792   94.647014  189.140271  115.439140   \n",
       "std     13.109028    0.499561    4.418122   13.831283   34.608052   30.413081   \n",
       "min     19.000000    1.000000   18.000000   62.000000   97.000000   41.600000   \n",
       "25%     38.250000    1.000000   23.200000   84.000000  164.250000   96.050000   \n",
       "50%     50.000000    1.000000   25.700000   93.000000  186.000000  113.000000   \n",
       "75%     59.000000    2.000000   29.275000  105.000000  209.750000  134.500000   \n",
       "max     79.000000    2.000000   42.200000  133.000000  301.000000  242.400000   \n",
       "\n",
       "               S3          S4          S5          S6           Y  \n",
       "count  442.000000  442.000000  442.000000  442.000000  442.000000  \n",
       "mean    49.788462    4.070249    4.641411   91.260181  152.133484  \n",
       "std     12.934202    1.290450    0.522391   11.496335   77.093005  \n",
       "min     22.000000    2.000000    3.258100   58.000000   25.000000  \n",
       "25%     40.250000    3.000000    4.276700   83.250000   87.000000  \n",
       "50%     48.000000    4.000000    4.620050   91.000000  140.500000  \n",
       "75%     57.750000    5.000000    4.997200   98.000000  211.500000  \n",
       "max     99.000000    9.090000    6.107000  124.000000  346.000000  "
      ]
     },
     "execution_count": 4,
     "metadata": {},
     "output_type": "execute_result"
    }
   ],
   "source": [
    "# el método describe() genera una tabla con informacion estadistica de cada uno de los rasgos y del objetivo.\n",
    "\n",
    "df.describe()"
   ]
  },
  {
   "cell_type": "markdown",
   "metadata": {},
   "source": [
    "## Se crean los histogramas para cada uno de los rasgos que caracteriza a los pacientes con diabetes:"
   ]
  },
  {
   "cell_type": "code",
   "execution_count": 5,
   "metadata": {
    "ExecuteTime": {
     "end_time": "2020-10-19T12:30:24.547926Z",
     "start_time": "2020-10-19T12:30:24.003081Z"
    }
   },
   "outputs": [
    {
     "data": {
      "image/png": "[encoded data removed]",
      "text/plain": [
       "<Figure size 1440x576 with 4 Axes>"
      ]
     },
     "metadata": {
      "needs_background": "light"
     },
     "output_type": "display_data"
    }
   ],
   "source": [
    "plt.figure(figsize=(20,8)) \n",
    "\n",
    "ax1 = plt.subplot(2,4,1)\n",
    "ax2 = plt.subplot(2,4,2)\n",
    "ax3 = plt.subplot(2,4,3)\n",
    "ax4 = plt.subplot(2,4,4)\n",
    "\n",
    "ax1.hist(df.AGE, bins=30, color='green',edgecolor='purple', alpha=0.5)\n",
    "ax1.set_xlabel('Age (years)', size=15)\n",
    "ax1.set_ylabel('Frequency', size=15)\n",
    "\n",
    "ax2.hist(df.SEX, bins=30, color='orange',edgecolor='purple', alpha=0.5)\n",
    "ax2.set_xlabel('Sex', size=15)\n",
    "\n",
    "ax3.hist(df.BMI, bins=30, color='red',edgecolor='purple', alpha=0.5)\n",
    "ax3.set_xlabel('Body_mass_index', size=15)\n",
    "\n",
    "ax4.hist(df.BP, bins=30, color='blue',edgecolor='purple', alpha=0.5)\n",
    "ax4.set_xlabel('Mean_Arterial_Pressure', size=15);"
   ]
  },
  {
   "cell_type": "code",
   "execution_count": 6,
   "metadata": {
    "ExecuteTime": {
     "end_time": "2020-10-19T12:30:25.072629Z",
     "start_time": "2020-10-19T12:30:24.549466Z"
    }
   },
   "outputs": [
    {
     "data": {
      "image/png": "[encoded data removed]",
      "text/plain": [
       "<Figure size 1440x576 with 4 Axes>"
      ]
     },
     "metadata": {
      "needs_background": "light"
     },
     "output_type": "display_data"
    }
   ],
   "source": [
    "plt.figure(figsize=(20,8)) \n",
    "\n",
    "ax1 = plt.subplot(2,4,1)\n",
    "ax2 = plt.subplot(2,4,2)\n",
    "ax3 = plt.subplot(2,4,3)\n",
    "ax4 = plt.subplot(2,4,4)\n",
    "\n",
    "ax1.hist(df.S1, bins=30, color='green',edgecolor='purple', alpha=0.5)\n",
    "ax1.set_xlabel('Total Cholesterol', size=15)\n",
    "ax1.set_ylabel('Frequency', size=15)\n",
    "\n",
    "ax2.hist(df.S2, bins=30, color='orange',edgecolor='purple', alpha=0.5)\n",
    "ax2.set_xlabel('Low Density lipoproteins', size=15)\n",
    "\n",
    "ax3.hist(df.S3, bins=30, color='red',edgecolor='purple', alpha=0.5)\n",
    "ax3.set_xlabel('High Density lipoproteins', size=15)\n",
    "\n",
    "ax4.hist(df.S4, bins=30, color='blue',edgecolor='purple', alpha=0.5)\n",
    "ax4.set_xlabel('Triglyceride', size=15);"
   ]
  },
  {
   "cell_type": "code",
   "execution_count": 7,
   "metadata": {
    "ExecuteTime": {
     "end_time": "2020-10-19T12:30:25.479025Z",
     "start_time": "2020-10-19T12:30:25.074767Z"
    }
   },
   "outputs": [
    {
     "data": {
      "text/plain": [
       "Text(0.5, 0, 'Y(Diabetes Mellitus Disease Progression)')"
      ]
     },
     "execution_count": 7,
     "metadata": {},
     "output_type": "execute_result"
    },
    {
     "data": {
      "image/png": "[encoded data removed]",
      "text/plain": [
       "<Figure size 1080x576 with 3 Axes>"
      ]
     },
     "metadata": {
      "needs_background": "light"
     },
     "output_type": "display_data"
    }
   ],
   "source": [
    "plt.figure(figsize=(15,8)) \n",
    "\n",
    "ax1 = plt.subplot(2,3,1)\n",
    "ax2 = plt.subplot(2,3,2)\n",
    "ax3 = plt.subplot(2,3,3)\n",
    "\n",
    "ax1.hist(df.S5, bins=30, color='green',edgecolor='purple', alpha=0.5)\n",
    "ax1.set_xlabel('Serum Concentration of Lamorigine', size=15)\n",
    "ax1.set_ylabel('Frequency', size=15)\n",
    "\n",
    "ax2.hist(df.S6, bins=30, color='orange',edgecolor='purple', alpha=0.5)\n",
    "ax2.set_xlabel('Glucose', size=15)\n",
    "\n",
    "ax3.hist(df.Y, bins=30, color='purple',edgecolor='black', alpha=0.5)\n",
    "ax3.set_xlabel('Y(Diabetes Mellitus Disease Progression)', size=15)\n"
   ]
  },
  {
   "cell_type": "markdown",
   "metadata": {
    "ExecuteTime": {
     "end_time": "2020-10-13T20:21:23.071130Z",
     "start_time": "2020-10-13T20:21:23.062454Z"
    }
   },
   "source": [
    "<font size=4>\n",
    "\n",
    "Para quitar cualquier posible correlación entre las muestras (los renglones del DataFrame), estos se reordenan al azar."
   ]
  },
  {
   "cell_type": "code",
   "execution_count": 8,
   "metadata": {
    "ExecuteTime": {
     "end_time": "2020-10-19T12:30:25.486225Z",
     "start_time": "2020-10-19T12:30:25.482411Z"
    }
   },
   "outputs": [],
   "source": [
    "df = df.sample(frac=1)"
   ]
  },
  {
   "cell_type": "markdown",
   "metadata": {},
   "source": [
    "<font size=5 color='blue'>\n",
    "División de las muestras para aprender y para hacer predicciones"
   ]
  },
  {
   "cell_type": "markdown",
   "metadata": {},
   "source": [
    "<font size=4>\n",
    "    \n",
    "Se dividen la muestras originales en 2 conjuntos: 90 % para el entrenamiento y 10 % para hacer inferencias (predicciones) con el sistema de aprendizaje."
   ]
  },
  {
   "cell_type": "code",
   "execution_count": 9,
   "metadata": {
    "ExecuteTime": {
     "end_time": "2020-10-19T12:30:25.500836Z",
     "start_time": "2020-10-19T12:30:25.488111Z"
    }
   },
   "outputs": [],
   "source": [
    "test_ratio = 0.1\n",
    "\n",
    "train_ratio = int((1.0-test_ratio)*len(df.values[:,:]))\n",
    "\n",
    "df_train = df.iloc[0:train_ratio,:]\n",
    "df_test  = df.iloc[train_ratio:,:]"
   ]
  },
  {
   "cell_type": "code",
   "execution_count": 10,
   "metadata": {
    "ExecuteTime": {
     "end_time": "2020-10-19T12:30:25.513777Z",
     "start_time": "2020-10-19T12:30:25.502520Z"
    }
   },
   "outputs": [
    {
     "name": "stdout",
     "output_type": "stream",
     "text": [
      "(397, 11)\n",
      "(45, 11)\n"
     ]
    }
   ],
   "source": [
    "print(df_train.shape)\n",
    "print(df_test.shape)"
   ]
  },
  {
   "cell_type": "markdown",
   "metadata": {},
   "source": [
    "<font size=4>\n",
    "\n",
    "Para trabajar con los modelos de aprendizaje,es adecuado que todas las variables tengan el mismo orden de magnitud. Por ello, se normalizan sus valores en las muestras que se emplearán en el entrenamiento, tanto los rasgos (X) y las variables objetivo (Y):\n",
    "\n",
    "$$x_{i,norm} = \\dfrac{x_{i}-\\mu}{\\sigma}$$\n",
    "    \n",
    "$$y_{i,norm} = \\dfrac{y_{i}-\\mu}{\\sigma}$$"
   ]
  },
  {
   "cell_type": "code",
   "execution_count": 11,
   "metadata": {
    "ExecuteTime": {
     "end_time": "2020-10-19T12:30:25.535595Z",
     "start_time": "2020-10-19T12:30:25.515747Z"
    }
   },
   "outputs": [
    {
     "data": {
      "text/html": [
       "<div>\n",
       "<style scoped>\n",
       "    .dataframe tbody tr th:only-of-type {\n",
       "        vertical-align: middle;\n",
       "    }\n",
       "\n",
       "    .dataframe tbody tr th {\n",
       "        vertical-align: top;\n",
       "    }\n",
       "\n",
       "    .dataframe thead th {\n",
       "        text-align: right;\n",
       "    }\n",
       "</style>\n",
       "<table border=\"1\" class=\"dataframe\">\n",
       "  <thead>\n",
       "    <tr style=\"text-align: right;\">\n",
       "      <th></th>\n",
       "      <th>AGE</th>\n",
       "      <th>SEX</th>\n",
       "      <th>BMI</th>\n",
       "      <th>BP</th>\n",
       "      <th>S1</th>\n",
       "      <th>S2</th>\n",
       "      <th>S3</th>\n",
       "      <th>S4</th>\n",
       "      <th>S5</th>\n",
       "      <th>S6</th>\n",
       "      <th>Y</th>\n",
       "    </tr>\n",
       "  </thead>\n",
       "  <tbody>\n",
       "    <tr>\n",
       "      <th>246</th>\n",
       "      <td>0.880549</td>\n",
       "      <td>-0.923573</td>\n",
       "      <td>-0.678927</td>\n",
       "      <td>-1.292722</td>\n",
       "      <td>1.678453</td>\n",
       "      <td>1.072260</td>\n",
       "      <td>1.179208</td>\n",
       "      <td>-0.202277</td>\n",
       "      <td>0.963141</td>\n",
       "      <td>-1.241175</td>\n",
       "      <td>-0.960557</td>\n",
       "    </tr>\n",
       "    <tr>\n",
       "      <th>425</th>\n",
       "      <td>-1.627292</td>\n",
       "      <td>-0.923573</td>\n",
       "      <td>-0.858406</td>\n",
       "      <td>-1.702184</td>\n",
       "      <td>-2.097449</td>\n",
       "      <td>-2.351121</td>\n",
       "      <td>0.482966</td>\n",
       "      <td>-1.597924</td>\n",
       "      <td>-0.422665</td>\n",
       "      <td>-1.065445</td>\n",
       "      <td>0.009443</td>\n",
       "    </tr>\n",
       "    <tr>\n",
       "      <th>293</th>\n",
       "      <td>-1.475302</td>\n",
       "      <td>-0.923573</td>\n",
       "      <td>1.923531</td>\n",
       "      <td>0.271467</td>\n",
       "      <td>0.439035</td>\n",
       "      <td>0.895527</td>\n",
       "      <td>0.018804</td>\n",
       "      <td>0.014824</td>\n",
       "      <td>-1.148812</td>\n",
       "      <td>-0.011066</td>\n",
       "      <td>0.638633</td>\n",
       "    </tr>\n",
       "    <tr>\n",
       "      <th>31</th>\n",
       "      <td>-0.487365</td>\n",
       "      <td>-0.923573</td>\n",
       "      <td>-1.374411</td>\n",
       "      <td>-1.702184</td>\n",
       "      <td>-0.800383</td>\n",
       "      <td>-1.113991</td>\n",
       "      <td>1.256568</td>\n",
       "      <td>-1.597924</td>\n",
       "      <td>-0.779650</td>\n",
       "      <td>-0.889715</td>\n",
       "      <td>-1.209611</td>\n",
       "    </tr>\n",
       "    <tr>\n",
       "      <th>359</th>\n",
       "      <td>0.804554</td>\n",
       "      <td>1.080025</td>\n",
       "      <td>0.106298</td>\n",
       "      <td>0.680929</td>\n",
       "      <td>0.150798</td>\n",
       "      <td>0.371874</td>\n",
       "      <td>-0.522717</td>\n",
       "      <td>0.728154</td>\n",
       "      <td>0.321844</td>\n",
       "      <td>1.306908</td>\n",
       "      <td>2.093633</td>\n",
       "    </tr>\n",
       "  </tbody>\n",
       "</table>\n",
       "</div>"
      ],
      "text/plain": [
       "          AGE       SEX       BMI        BP        S1        S2        S3  \\\n",
       "246  0.880549 -0.923573 -0.678927 -1.292722  1.678453  1.072260  1.179208   \n",
       "425 -1.627292 -0.923573 -0.858406 -1.702184 -2.097449 -2.351121  0.482966   \n",
       "293 -1.475302 -0.923573  1.923531  0.271467  0.439035  0.895527  0.018804   \n",
       "31  -0.487365 -0.923573 -1.374411 -1.702184 -0.800383 -1.113991  1.256568   \n",
       "359  0.804554  1.080025  0.106298  0.680929  0.150798  0.371874 -0.522717   \n",
       "\n",
       "           S4        S5        S6         Y  \n",
       "246 -0.202277  0.963141 -1.241175 -0.960557  \n",
       "425 -1.597924 -0.422665 -1.065445  0.009443  \n",
       "293  0.014824 -1.148812 -0.011066  0.638633  \n",
       "31  -1.597924 -0.779650 -0.889715 -1.209611  \n",
       "359  0.728154  0.321844  1.306908  2.093633  "
      ]
     },
     "execution_count": 11,
     "metadata": {},
     "output_type": "execute_result"
    }
   ],
   "source": [
    "mu = df_train.mean()\n",
    "sigma = df_train.std()\n",
    "df_train_norm = (df_train - mu)/ sigma\n",
    "df_train_norm.head()"
   ]
  },
  {
   "cell_type": "markdown",
   "metadata": {},
   "source": [
    "<font size=5 color='blue'> \n",
    "Nota importante: La normalización de las muestras de prueba se realiza con los valores de $\\mu$ y $\\sigma$ obtenidos con las muestras empleadas para el entrenamiento"
   ]
  },
  {
   "cell_type": "code",
   "execution_count": 12,
   "metadata": {
    "ExecuteTime": {
     "end_time": "2020-10-19T12:30:25.549131Z",
     "start_time": "2020-10-19T12:30:25.536981Z"
    }
   },
   "outputs": [
    {
     "data": {
      "text/html": [
       "<div>\n",
       "<style scoped>\n",
       "    .dataframe tbody tr th:only-of-type {\n",
       "        vertical-align: middle;\n",
       "    }\n",
       "\n",
       "    .dataframe tbody tr th {\n",
       "        vertical-align: top;\n",
       "    }\n",
       "\n",
       "    .dataframe thead th {\n",
       "        text-align: right;\n",
       "    }\n",
       "</style>\n",
       "<table border=\"1\" class=\"dataframe\">\n",
       "  <thead>\n",
       "    <tr style=\"text-align: right;\">\n",
       "      <th></th>\n",
       "      <th>AGE</th>\n",
       "      <th>SEX</th>\n",
       "      <th>BMI</th>\n",
       "      <th>BP</th>\n",
       "      <th>S1</th>\n",
       "      <th>S2</th>\n",
       "      <th>S3</th>\n",
       "      <th>S4</th>\n",
       "      <th>S5</th>\n",
       "      <th>S6</th>\n",
       "      <th>Y</th>\n",
       "    </tr>\n",
       "  </thead>\n",
       "  <tbody>\n",
       "    <tr>\n",
       "      <th>410</th>\n",
       "      <td>-0.183384</td>\n",
       "      <td>1.080025</td>\n",
       "      <td>-0.589187</td>\n",
       "      <td>0.175420</td>\n",
       "      <td>1.015508</td>\n",
       "      <td>0.784251</td>\n",
       "      <td>-0.600078</td>\n",
       "      <td>0.728154</td>\n",
       "      <td>1.408068</td>\n",
       "      <td>-0.889715</td>\n",
       "      <td>0.756606</td>\n",
       "    </tr>\n",
       "    <tr>\n",
       "      <th>216</th>\n",
       "      <td>0.272587</td>\n",
       "      <td>1.080025</td>\n",
       "      <td>0.734477</td>\n",
       "      <td>1.042007</td>\n",
       "      <td>1.130803</td>\n",
       "      <td>1.556639</td>\n",
       "      <td>-1.451040</td>\n",
       "      <td>3.054233</td>\n",
       "      <td>0.974545</td>\n",
       "      <td>1.043313</td>\n",
       "      <td>1.267822</td>\n",
       "    </tr>\n",
       "    <tr>\n",
       "      <th>264</th>\n",
       "      <td>0.728558</td>\n",
       "      <td>1.080025</td>\n",
       "      <td>0.577432</td>\n",
       "      <td>-0.691166</td>\n",
       "      <td>-0.944502</td>\n",
       "      <td>-0.197598</td>\n",
       "      <td>-1.064239</td>\n",
       "      <td>-0.047205</td>\n",
       "      <td>-1.253375</td>\n",
       "      <td>-0.450391</td>\n",
       "      <td>-0.082314</td>\n",
       "    </tr>\n",
       "    <tr>\n",
       "      <th>209</th>\n",
       "      <td>0.804554</td>\n",
       "      <td>1.080025</td>\n",
       "      <td>-0.387272</td>\n",
       "      <td>1.403084</td>\n",
       "      <td>-1.059796</td>\n",
       "      <td>-0.341603</td>\n",
       "      <td>-1.605760</td>\n",
       "      <td>0.728154</td>\n",
       "      <td>-0.244655</td>\n",
       "      <td>-0.274661</td>\n",
       "      <td>-0.973665</td>\n",
       "    </tr>\n",
       "    <tr>\n",
       "      <th>316</th>\n",
       "      <td>0.348582</td>\n",
       "      <td>1.080025</td>\n",
       "      <td>0.285778</td>\n",
       "      <td>0.030989</td>\n",
       "      <td>0.035503</td>\n",
       "      <td>-0.439788</td>\n",
       "      <td>-0.677438</td>\n",
       "      <td>0.728154</td>\n",
       "      <td>1.597094</td>\n",
       "      <td>0.867583</td>\n",
       "      <td>0.900795</td>\n",
       "    </tr>\n",
       "  </tbody>\n",
       "</table>\n",
       "</div>"
      ],
      "text/plain": [
       "          AGE       SEX       BMI        BP        S1        S2        S3  \\\n",
       "410 -0.183384  1.080025 -0.589187  0.175420  1.015508  0.784251 -0.600078   \n",
       "216  0.272587  1.080025  0.734477  1.042007  1.130803  1.556639 -1.451040   \n",
       "264  0.728558  1.080025  0.577432 -0.691166 -0.944502 -0.197598 -1.064239   \n",
       "209  0.804554  1.080025 -0.387272  1.403084 -1.059796 -0.341603 -1.605760   \n",
       "316  0.348582  1.080025  0.285778  0.030989  0.035503 -0.439788 -0.677438   \n",
       "\n",
       "           S4        S5        S6         Y  \n",
       "410  0.728154  1.408068 -0.889715  0.756606  \n",
       "216  3.054233  0.974545  1.043313  1.267822  \n",
       "264 -0.047205 -1.253375 -0.450391 -0.082314  \n",
       "209  0.728154 -0.244655 -0.274661 -0.973665  \n",
       "316  0.728154  1.597094  0.867583  0.900795  "
      ]
     },
     "execution_count": 12,
     "metadata": {},
     "output_type": "execute_result"
    }
   ],
   "source": [
    "df_test_norm = (df_test - mu) / sigma\n",
    "df_test_norm.head()"
   ]
  },
  {
   "cell_type": "markdown",
   "metadata": {},
   "source": [
    "<font size=4>\n",
    "    \n",
    "Histogramas de las variables que se emplearán en el entrenamiento:"
   ]
  },
  {
   "cell_type": "code",
   "execution_count": 13,
   "metadata": {
    "ExecuteTime": {
     "end_time": "2020-10-19T12:30:26.033391Z",
     "start_time": "2020-10-19T12:30:25.550355Z"
    }
   },
   "outputs": [
    {
     "data": {
      "image/png": "[encoded data removed]",
      "text/plain": [
       "<Figure size 1440x576 with 4 Axes>"
      ]
     },
     "metadata": {
      "needs_background": "light"
     },
     "output_type": "display_data"
    }
   ],
   "source": [
    "plt.figure(figsize=(20,8)) \n",
    "\n",
    "ax1 = plt.subplot(2,4,1)\n",
    "ax2 = plt.subplot(2,4,2)\n",
    "ax3 = plt.subplot(2,4,3)\n",
    "ax4 = plt.subplot(2,4,4)\n",
    "\n",
    "ax1.hist(df_train_norm.AGE, bins=30, color='green',edgecolor='purple', alpha=0.5)\n",
    "ax1.set_xlabel('x1(Age)', size=15)\n",
    "ax1.set_ylabel('Frequency', size=15)\n",
    "\n",
    "ax2.hist(df_train_norm.SEX, bins=30, color='orange',edgecolor='purple', alpha=0.5)\n",
    "ax2.set_xlabel('x2(Sex)', size=15)\n",
    "\n",
    "ax3.hist(df_train_norm.BMI, bins=30, color='red',edgecolor='purple', alpha=0.5)\n",
    "ax3.set_xlabel('x3(Body_mass_index)', size=15)\n",
    "\n",
    "ax4.hist(df_train_norm.BP, bins=30, color='blue',edgecolor='purple', alpha=0.5)\n",
    "ax4.set_xlabel('x4(Mean_Arterial_Pressure)', size=15);"
   ]
  },
  {
   "cell_type": "code",
   "execution_count": 14,
   "metadata": {
    "ExecuteTime": {
     "end_time": "2020-10-19T12:30:26.558573Z",
     "start_time": "2020-10-19T12:30:26.034940Z"
    }
   },
   "outputs": [
    {
     "data": {
      "image/png": "[encoded data removed]",
      "text/plain": [
       "<Figure size 1440x576 with 4 Axes>"
      ]
     },
     "metadata": {
      "needs_background": "light"
     },
     "output_type": "display_data"
    }
   ],
   "source": [
    "plt.figure(figsize=(20,8)) \n",
    "\n",
    "ax1 = plt.subplot(2,4,1)\n",
    "ax2 = plt.subplot(2,4,2)\n",
    "ax3 = plt.subplot(2,4,3)\n",
    "ax4 = plt.subplot(2,4,4)\n",
    "\n",
    "ax1.hist(df_train_norm.S1, bins=30, color='green',edgecolor='purple', alpha=0.5)\n",
    "ax1.set_xlabel('x5(Total Cholesterol)', size=15)\n",
    "ax1.set_ylabel('Frequency', size=15)\n",
    "\n",
    "ax2.hist(df_train_norm.S2, bins=30, color='orange',edgecolor='purple', alpha=0.5)\n",
    "ax2.set_xlabel('x6(Low Density lipoproteins)', size=15)\n",
    "\n",
    "ax3.hist(df_train_norm.S3, bins=30, color='red',edgecolor='purple', alpha=0.5)\n",
    "ax3.set_xlabel('x7(High Density lipoproteins)', size=15)\n",
    "\n",
    "ax4.hist(df_train_norm.S4, bins=30, color='blue',edgecolor='purple', alpha=0.5)\n",
    "ax4.set_xlabel('x8(Triglyceride)', size=15);"
   ]
  },
  {
   "cell_type": "code",
   "execution_count": 15,
   "metadata": {
    "ExecuteTime": {
     "end_time": "2020-10-19T12:30:26.960464Z",
     "start_time": "2020-10-19T12:30:26.560100Z"
    }
   },
   "outputs": [
    {
     "data": {
      "text/plain": [
       "Text(0.5, 0, 'Y(Diabetes Mellitus Disease Progression)')"
      ]
     },
     "execution_count": 15,
     "metadata": {},
     "output_type": "execute_result"
    },
    {
     "data": {
      "image/png": "[encoded data removed]",
      "text/plain": [
       "<Figure size 1440x576 with 3 Axes>"
      ]
     },
     "metadata": {
      "needs_background": "light"
     },
     "output_type": "display_data"
    }
   ],
   "source": [
    "plt.figure(figsize=(20,8)) \n",
    "\n",
    "ax1 = plt.subplot(2,3,1)\n",
    "ax2 = plt.subplot(2,3,2)\n",
    "ax3 = plt.subplot(2,3,3)\n",
    "\n",
    "ax1.hist(df_train_norm.S5, bins=30, color='green',edgecolor='purple', alpha=0.5)\n",
    "ax1.set_xlabel('x9(Serum Concentration of Lamorigine)', size=15)\n",
    "ax1.set_ylabel('Frequency', size=15)\n",
    "\n",
    "ax2.hist(df_train_norm.S6, bins=30, color='orange',edgecolor='purple', alpha=0.5)\n",
    "ax2.set_xlabel('x10(Glucose)', size=15)\n",
    "\n",
    "ax3.hist(df_train_norm.Y, bins=30, color='purple',edgecolor='black', alpha=0.5)\n",
    "ax3.set_xlabel('Y(Diabetes Mellitus Disease Progression)', size=15)\n"
   ]
  },
  {
   "cell_type": "markdown",
   "metadata": {},
   "source": [
    "<font size=4>\n",
    "Los valores de las variables X e Y se extraen de las columnas del DataFrame."
   ]
  },
  {
   "cell_type": "code",
   "execution_count": 16,
   "metadata": {
    "ExecuteTime": {
     "end_time": "2020-10-19T12:30:26.964985Z",
     "start_time": "2020-10-19T12:30:26.961850Z"
    }
   },
   "outputs": [],
   "source": [
    "train_x = df_train_norm.values[:,:-1]\n",
    "train_y = df_train_norm.values[:,-1:]"
   ]
  },
  {
   "cell_type": "code",
   "execution_count": 17,
   "metadata": {
    "ExecuteTime": {
     "end_time": "2020-10-19T12:30:26.977641Z",
     "start_time": "2020-10-19T12:30:26.966303Z"
    }
   },
   "outputs": [],
   "source": [
    "test_x = df_test_norm.values[:,:-1]\n",
    "test_y = df_test_norm.values[:,-1:]"
   ]
  },
  {
   "cell_type": "code",
   "execution_count": 18,
   "metadata": {
    "ExecuteTime": {
     "end_time": "2020-10-19T12:30:26.991865Z",
     "start_time": "2020-10-19T12:30:26.979131Z"
    }
   },
   "outputs": [],
   "source": [
    "x_train = train_x.T\n",
    "x_test = test_x.T\n",
    "\n",
    "y_train = train_y.T\n",
    "y_test = test_y.T"
   ]
  },
  {
   "cell_type": "code",
   "execution_count": 19,
   "metadata": {
    "ExecuteTime": {
     "end_time": "2020-10-19T12:30:27.007099Z",
     "start_time": "2020-10-19T12:30:26.993169Z"
    }
   },
   "outputs": [
    {
     "name": "stdout",
     "output_type": "stream",
     "text": [
      "(10, 397)\n",
      "(1, 397)\n",
      "(10, 45)\n",
      "(1, 45)\n"
     ]
    }
   ],
   "source": [
    "print(x_train.shape)\n",
    "print(y_train.shape)\n",
    "print(x_test.shape)\n",
    "print(y_test.shape)"
   ]
  },
  {
   "cell_type": "code",
   "execution_count": 20,
   "metadata": {
    "ExecuteTime": {
     "end_time": "2020-10-19T12:30:27.021962Z",
     "start_time": "2020-10-19T12:30:27.008344Z"
    }
   },
   "outputs": [
    {
     "name": "stdout",
     "output_type": "stream",
     "text": [
      "(397, 10)\n",
      "(397, 1)\n",
      "(45, 10)\n",
      "(45, 1)\n"
     ]
    }
   ],
   "source": [
    "print(train_x.shape)\n",
    "print(train_y.shape)\n",
    "print(test_x.shape)\n",
    "print(test_y.shape)"
   ]
  },
  {
   "cell_type": "markdown",
   "metadata": {},
   "source": [
    "<font size=5 color='blue'>\n",
    "\n",
    "# <center> Redes Neuronales </center>\n",
    "\n",
    "\n"
   ]
  },
  {
   "cell_type": "markdown",
   "metadata": {
    "ExecuteTime": {
     "end_time": "2020-10-18T00:30:05.725975Z",
     "start_time": "2020-10-18T00:30:05.722770Z"
    }
   },
   "source": [
    "<font size=5 color='blue'>\n",
    "\n",
    "Implementada con Python"
   ]
  },
  {
   "cell_type": "markdown",
   "metadata": {},
   "source": [
    "<font size=4>\n",
    "\n",
    "Inspirandose en modelos que intentan describir las conecciones entre las neuronas en nuestro cerebro, se propusieron (y se siguen proponiendo) modelos de redes neuronales para generar sistemas de aprendizaje. Se les conoce con el nombre de redes neuronales artificiales, o simplemente como redes neuronales."
   ]
  },
  {
   "cell_type": "markdown",
   "metadata": {},
   "source": [
    "<font size=5 color='blue'>\n",
    "Implementación de una red neuronal del tipo \"Full-Connected Feed-forward (FFF)\"."
   ]
  },
  {
   "cell_type": "markdown",
   "metadata": {},
   "source": [
    "<font size=4>\n",
    "\n",
    "<p>En nuestro primer modelo, la red neuronal tiene 3 capas: la capa de entrada, la capa de salida y una capa interior (en la literatura, a esta capa interna se le da el nombre de capa oculta). </p>\n",
    "<p>El objetivo del modelo es encontrar una función que describa la evolución de la Diabetes Mellitus en una año, a partir de su linea base, con los rasgos de la persona que se consideran importantes para su evolución. Los rasgos propuestos son: edad, sexo, índice de masa corporal, presión arterial promedio y las seis mediciones de suero sanguíneo descritas al inicio: el colesterol total, la densidad baja de lipoproteinas, la densidad alta de lipoproteinas, los trigliceridos, la concentración de lamorigina y la glucosa</p>\n",
    "<p>Esta función se genera mediante una red de neuronas artificiales. Se entiende como neurona un modelo matemático simple de una neurona biológica.</p>\n",
    "</font>"
   ]
  },
  {
   "cell_type": "markdown",
   "metadata": {
    "ExecuteTime": {
     "end_time": "2020-10-14T17:48:13.294187Z",
     "start_time": "2020-10-14T17:48:13.290898Z"
    }
   },
   "source": [
    "<font size=5 color='blue'>\n",
    "\n",
    "Adecuando lo datos de alimentación al sistema de aprendizaje"
   ]
  },
  {
   "cell_type": "markdown",
   "metadata": {},
   "source": [
    "<font size=4>\n",
    "\n",
    "Antes de inciar el desarrollo del sistema, transformamos los datos de entrada para que sean compatibles con el modelo que desarrollaremos. El fomato de entrada de las variables X y Y, tanto para el entrenamiento como para la prueba es un poco diferente al empleado en los sistemas de aprendizaje anteriores."
   ]
  },
  {
   "cell_type": "markdown",
   "metadata": {},
   "source": [
    "<font size=5 color='blue'>\n",
    "    \n",
    "Definición de la arquitectura de la red neuronal."
   ]
  },
  {
   "cell_type": "markdown",
   "metadata": {
    "ExecuteTime": {
     "end_time": "2020-10-13T17:06:46.389123Z",
     "start_time": "2020-10-13T17:06:46.381702Z"
    }
   },
   "source": [
    "<font size=4>\n",
    "    \n",
    "Se emplea indistintamente la palabra neurona o nodo para referirse al modelo matematico de la neurona.\n",
    "\n",
    "El número de nodos en la capa de entrada depende del numero de rasgos del sistema que definen la variable objetivo, la evolución de la diabetes en un año. En el presente caso el número de rasgos es diez.\n",
    "\n",
    "El número de nodos en la capa de salida depende del tipo de problema. En el presente caso, se tiene una sola neurona, cuya salida nos da un número que cuantifica la evolución de la diabetes en un año.\n",
    "\n",
    "En el presente modelo, sólo tenemos una capa interna, el número de nodos en ella es variable. Se hacen pruebas con diferentes números y se adopta el que de los mejores resultados.\n",
    "\n",
    "La función layer_sizes() genera la arquitectura de la red neuronal partiendo de los datos con que se van a alimentar a la red.\n"
   ]
  },
  {
   "cell_type": "code",
   "execution_count": 21,
   "metadata": {
    "ExecuteTime": {
     "end_time": "2020-10-19T12:30:27.036758Z",
     "start_time": "2020-10-19T12:30:27.023466Z"
    }
   },
   "outputs": [],
   "source": [
    "def layer_sizes(X, Y, n_h):\n",
    "    \"\"\"\n",
    "    Argument:\n",
    "    X -- input dataset of shape (input size, number of examples)\n",
    "    Y -- labels of shape (output size, number of examples)\n",
    "    \n",
    "    Return:\n",
    "    n_x -- the size of the input layer\n",
    "    n_h -- the size of the hidden layer\n",
    "    n_y -- the size of the output layer\n",
    "    \"\"\"\n",
    "    \n",
    "    n_x = X.shape[0] \n",
    "    n_h = n_h\n",
    "    n_y = Y.shape[0]\n",
    "    \n",
    "    return (n_x, n_h, n_y)"
   ]
  },
  {
   "cell_type": "code",
   "execution_count": 22,
   "metadata": {
    "ExecuteTime": {
     "end_time": "2020-10-19T12:30:27.049992Z",
     "start_time": "2020-10-19T12:30:27.038304Z"
    }
   },
   "outputs": [],
   "source": [
    "n_h = 4\n",
    "n_x, n_h, n_y = layer_sizes(x_train, y_train, n_h = n_h)"
   ]
  },
  {
   "cell_type": "code",
   "execution_count": 23,
   "metadata": {
    "ExecuteTime": {
     "end_time": "2020-10-19T12:30:27.065177Z",
     "start_time": "2020-10-19T12:30:27.053659Z"
    }
   },
   "outputs": [
    {
     "name": "stdout",
     "output_type": "stream",
     "text": [
      "10 4 1\n"
     ]
    }
   ],
   "source": [
    "print(n_x, n_h, n_y)"
   ]
  },
  {
   "cell_type": "markdown",
   "metadata": {},
   "source": [
    "<font size=5 color='blue'>\n",
    "Visualización de la red     \n",
    " \n",
    "<font size=4 color='black'> \n",
    "    \n",
    "Usaremos NetworkX, que es un paquete de Python para la creación, manipulación y estudio de la estructura, dinámica y funciones de redes complejas.\n",
    "    \n",
    "[NetworkX](https://networkx.github.io/)\n",
    "\n",
    "Lo pueden instalar usando:"
   ]
  },
  {
   "cell_type": "raw",
   "metadata": {},
   "source": [
    "$ conda install -c anaconda networkx "
   ]
  },
  {
   "cell_type": "code",
   "execution_count": 24,
   "metadata": {
    "ExecuteTime": {
     "end_time": "2020-10-19T12:30:27.253736Z",
     "start_time": "2020-10-19T12:30:27.068319Z"
    }
   },
   "outputs": [],
   "source": [
    "import networkx as nx\n",
    "\n",
    "class Network(object):\n",
    "    \n",
    "    def  __init__ (self,sizes):\n",
    "        self.num_layers = len(sizes)\n",
    "        print(\"It has\", self.num_layers, \"layers,\")\n",
    "        self.sizes = sizes\n",
    "        print(\"with the following number of nodes per layer\",self.sizes)\n",
    "        self.biases = [np.random.randn(y, 1) for y in sizes[1:]]\n",
    "        self.weights = [np.random.randn(y, x)\n",
    "                        for x, y in zip(sizes[:-1], sizes[1:])]\n",
    "        \n",
    "    def feedforward(self, x_of_sample):\n",
    "        \"\"\"Return the output of the network F(x_of_sample) \"\"\"        \n",
    "        for b, w in zip(self.biases, self.weights):\n",
    "            x_of_sample = sigmoid(np.dot(w, x_of_sample)+b)\n",
    "        return x_of_sample\n",
    "    \n",
    "    def graph(self,sizes):\n",
    "        a=[]\n",
    "        ps={}\n",
    "        Q = nx.Graph()\n",
    "        for i in range(len(sizes)):\n",
    "            Qi=nx.Graph()    \n",
    "            n=sizes[i]\n",
    "            nodos=np.arange(n)\n",
    "            Qi.add_nodes_from(nodos)\n",
    "            l_i=Qi.nodes\n",
    "            Q = nx.union(Q, Qi, rename = (None, 'Q%i-'%i))\n",
    "            if len(l_i)==1:\n",
    "                ps['Q%i-0'%i]=[i/(len(sizes)), 1/2]\n",
    "            else:\n",
    "                for j in range(len(l_i)+1):\n",
    "                    ps['Q%i-%i'%(i,j)]=[i/(len(sizes)),(1/(len(l_i)*len(l_i)))+(j/(len(l_i)))]\n",
    "            a.insert(i,Qi)\n",
    "        for i in range(len(a)-1):\n",
    "            for j in range(len(a[i])):\n",
    "                for k in range(len(a[i+1])):\n",
    "                    Q.add_edge('Q%i-%i' %(i,j),'Q%i-%i' %(i+1,k))\n",
    "        nx.draw(Q, pos = ps)\n",
    "                "
   ]
  },
  {
   "cell_type": "code",
   "execution_count": 25,
   "metadata": {
    "ExecuteTime": {
     "end_time": "2020-10-19T12:30:27.323262Z",
     "start_time": "2020-10-19T12:30:27.255156Z"
    }
   },
   "outputs": [
    {
     "name": "stdout",
     "output_type": "stream",
     "text": [
      "It has 3 layers,\n",
      "with the following number of nodes per layer [10, 4, 1]\n"
     ]
    },
    {
     "data": {
      "image/png": "[encoded data removed]",
      "text/plain": [
       "<Figure size 432x288 with 1 Axes>"
      ]
     },
     "metadata": {},
     "output_type": "display_data"
    }
   ],
   "source": [
    "layers = [n_x, n_h, n_y]\n",
    "net = Network(layers)\n",
    "net.graph(layers)"
   ]
  },
  {
   "cell_type": "markdown",
   "metadata": {},
   "source": [
    "<font size=5 color='blue'>\n",
    "    \n",
    "Inicializacion de los pesos y los bias."
   ]
  },
  {
   "cell_type": "markdown",
   "metadata": {},
   "source": [
    "<font size=4>\n",
    "Debido a que las variables X y Y fueron normalizadas a distribuciones con un deviación estándard de 1, las variables $w$ se inicializan con valores pequeños, mientras que los biases se inicializan a cero."
   ]
  },
  {
   "cell_type": "markdown",
   "metadata": {},
   "source": [
    "<font size=4>\n",
    "\n",
    "La funcion initialize_parameters() inicializa a los pesos $W$ y el bias $b$. \n",
    "\n",
    "Dado que se tiene un conjunto de variables independientes, se debe definir un peso para cada variable, esto para una sola neurona de la siguiente capa. \n",
    "\n",
    "Entonces $W_1$ ahora es una matriz de tamaño $(n_h, n_x)$, en donde $n_h$ es el numero de nodos en la capa intera y $n_x$ es el numero de nodos en la capa de entrada, es decir, es el numero de variables independientes (rasgos).\n",
    "\n",
    "Para cada neurona en la capa interna hay un bias, por lo que ahora $b_1$ es un vector de tamaño $(n_h, 1)$. \n",
    "\n",
    "En general para cada par de capas consecutivas debe haber un $W$ y un $b$.\n",
    "\n",
    "Generalizando:\n",
    "\n",
    "$W_i$ y $b_i$ son los parametros a definir entre la capa $i$ y la capa $i+1$. Si la capa $i$ tiene $n_i$ neuronas y la capa $i+1$ tiene $n_{i+1}$ neuronas, entonces las dimensiones de $W_{i}$ son $(n_{i+1}, n_i)$ y las de $b_i$ son $(n_{i+1}, 1)$."
   ]
  },
  {
   "cell_type": "code",
   "execution_count": 26,
   "metadata": {
    "ExecuteTime": {
     "end_time": "2020-10-19T12:30:27.331606Z",
     "start_time": "2020-10-19T12:30:27.324784Z"
    }
   },
   "outputs": [],
   "source": [
    "def initialize_parameters(n_x, n_h, n_y):\n",
    "    \"\"\"\n",
    "    Argument:\n",
    "    n_x -- int: size of the input layer\n",
    "    n_h -- int: size of the hidden layer\n",
    "    n_y -- int: size of the output layer\n",
    "    \n",
    "    Returns:\n",
    "    params -- python dictionary containing your parameters:\n",
    "                    W1 -- weight matrix of shape (n_h, n_x)\n",
    "                    b1 -- bias vector of shape (n_h, 1)\n",
    "                    W2 -- weight matrix of shape (n_y, n_h)\n",
    "                    b2 -- bias vector of shape (n_y, 1)\n",
    "    \"\"\"\n",
    "    \n",
    "    np.random.seed(2) \n",
    "    \n",
    "    W1 = np.reshape(np.random.uniform(-0.1, 0.1, n_h*n_x), (n_h, n_x))  \n",
    "    b1 = np.zeros((n_h, 1))\n",
    "    W2 = np.reshape(np.random.uniform(-0.1, 0.1, n_y*n_h), (n_y, n_h))    \n",
    "    b2 = np.zeros((n_y, 1))\n",
    "    \n",
    "    \n",
    "    assert (W1.shape == (n_h, n_x))\n",
    "    assert (b1.shape == (n_h, 1))\n",
    "    assert (W2.shape == (n_y, n_h))\n",
    "    assert (b2.shape == (n_y, 1))\n",
    "    \n",
    "    parameters = {\"W1\": W1,\n",
    "                  \"b1\": b1,\n",
    "                  \"W2\": W2,\n",
    "                  \"b2\": b2}\n",
    "    \n",
    "    return parameters"
   ]
  },
  {
   "cell_type": "code",
   "execution_count": 27,
   "metadata": {
    "ExecuteTime": {
     "end_time": "2020-10-19T12:30:27.351024Z",
     "start_time": "2020-10-19T12:30:27.333217Z"
    }
   },
   "outputs": [
    {
     "data": {
      "text/plain": [
       "{'W1': array([[-0.01280102, -0.09481475,  0.0099325 , -0.01293552, -0.01592644,\n",
       "         -0.03393304, -0.05907027,  0.02385419, -0.04006907, -0.04663454],\n",
       "        [ 0.02422677,  0.00582842, -0.07308401,  0.00271562, -0.06311203,\n",
       "          0.05706703,  0.07079506, -0.00115263,  0.0693123 , -0.0840709 ],\n",
       "        [ 0.00104922, -0.0869427 , -0.01437553, -0.08069382, -0.07456801,\n",
       "          0.01934906, -0.0547976 , -0.07861086, -0.05593876, -0.03003474],\n",
       "        [-0.0064425 , -0.05965135,  0.02808135, -0.00338603,  0.00104734,\n",
       "         -0.02262147,  0.05872749,  0.01600084, -0.06754028,  0.04015047]]),\n",
       " 'b1': array([[0.],\n",
       "        [0.],\n",
       "        [0.],\n",
       "        [0.]]),\n",
       " 'W2': array([[ 9.29102160e-02,  1.67223404e-06,  7.79040128e-02,\n",
       "         -3.16772695e-02]]),\n",
       " 'b2': array([[0.]])}"
      ]
     },
     "execution_count": 27,
     "metadata": {},
     "output_type": "execute_result"
    }
   ],
   "source": [
    "initialize_parameters(n_x, n_h, n_y)"
   ]
  },
  {
   "cell_type": "markdown",
   "metadata": {
    "ExecuteTime": {
     "end_time": "2020-10-14T18:02:21.703636Z",
     "start_time": "2020-10-14T18:02:21.700427Z"
    }
   },
   "source": [
    "<font size=5 color='blue'>\n",
    "\n",
    "Conexión entre las neuronas de capas contiguas."
   ]
  },
  {
   "cell_type": "markdown",
   "metadata": {},
   "source": [
    "<font size=4>\n",
    "\n",
    "La función ```propagate()``` realiza la combinacion lineal entre los valores de salida de los nodos de una capa con los pesos y bias definidos entre esa capa y la siguiente. \n",
    "\n",
    "La función de activación que se aplica a esta combinación, es para considerar efectos no lineales.\n"
   ]
  },
  {
   "cell_type": "code",
   "execution_count": 28,
   "metadata": {
    "ExecuteTime": {
     "end_time": "2020-10-19T12:30:27.396860Z",
     "start_time": "2020-10-19T12:30:27.382469Z"
    }
   },
   "outputs": [],
   "source": [
    "def tanh(z):\n",
    "    \"\"\"\n",
    "    Compute the tanh of z\n",
    "\n",
    "    Arguments:\n",
    "    z -- A scalar or numpy array of any size.\n",
    "\n",
    "    Return:\n",
    "    s -- tanh(z)\n",
    "    \"\"\"\n",
    "    return np.tanh(z)"
   ]
  },
  {
   "cell_type": "code",
   "execution_count": 29,
   "metadata": {
    "ExecuteTime": {
     "end_time": "2020-10-19T12:30:27.411531Z",
     "start_time": "2020-10-19T12:30:27.398210Z"
    }
   },
   "outputs": [],
   "source": [
    "def tanh_derivative(z):\n",
    "    return 1-np.square(tanh(z))"
   ]
  },
  {
   "cell_type": "code",
   "execution_count": 30,
   "metadata": {
    "ExecuteTime": {
     "end_time": "2020-10-19T12:30:27.453828Z",
     "start_time": "2020-10-19T12:30:27.442238Z"
    }
   },
   "outputs": [],
   "source": [
    "def propagate(X, Y, parameters):\n",
    "    \"\"\"\n",
    "    Argument:\n",
    "    X -- input data of size (n_x, m)\n",
    "    parameters -- python dictionary containing your parameters (output of initialization function)\n",
    "    \n",
    "    Returns:\n",
    "    A2 -- The sigmoid output of the second activation\n",
    "    cache -- a dictionary containing \"Z1\", \"A1\", \"Z2\" and \"A2\"\n",
    "    \"\"\"\n",
    "    \n",
    "    # Retrieve each parameter from the dictionary \"parameters\"\n",
    "    W1 = parameters[\"W1\"]\n",
    "    b1 = parameters[\"b1\"]\n",
    "    W2 = parameters[\"W2\"]\n",
    "    b2 = parameters[\"b2\"]\n",
    "    \n",
    "    # Zi es la combinacion lineal entre x y w\n",
    "    # Ai es la aplicacion de una funcion de activacion a Zi\n",
    "    \n",
    "    Z1 = np.dot(W1, X) + b1\n",
    "    A1 = tanh(Z1)\n",
    "    Z2 = np.dot(W2, A1) + b2\n",
    "    A2 = Z2\n",
    "    \n",
    "    \n",
    "    assert(A2.shape == (1, X.shape[1]))\n",
    "    \n",
    "    cache = {\"Z1\": Z1,\n",
    "             \"A1\": A1,\n",
    "             \"Z2\": Z2,\n",
    "             \"A2\": A2}\n",
    "    \n",
    "    m = Y.shape[1] # number of samples\n",
    "\n",
    "    cost = (1/m)*np.sum((Y-A2)**2)\n",
    "    cost = np.squeeze(cost)     \n",
    "    \n",
    "    assert(isinstance(cost, float))\n",
    "    \n",
    "        \n",
    "    W1 = parameters[\"W1\"]\n",
    "    W2 = parameters[\"W2\"]\n",
    "        \n",
    "    A1 = cache[\"A1\"]\n",
    "    A2 = cache[\"A2\"]\n",
    "    \n",
    "    # Calculo de derivadas\n",
    "    \n",
    "    dZ2 = 2*(A2-Y)\n",
    "    dW2 = (1/m)*np.dot(dZ2, A1.T)\n",
    "    db2 = (1/m)*np.sum(dZ2, axis = 1, keepdims = True)\n",
    "    dZ1 = np.dot(W2.T, dZ2)*tanh_derivative(A1)\n",
    "    dW1 = (1/m)*np.dot(dZ1, X.T)\n",
    "    db1 = (1/m)*np.sum(dZ1, axis = 1, keepdims = True)\n",
    "    \n",
    "    grads = {\"dW1\": dW1,\n",
    "             \"db1\": db1,\n",
    "             \"dW2\": dW2,\n",
    "             \"db2\": db2}\n",
    "    \n",
    "    \n",
    "    return A2, cache, cost, grads"
   ]
  },
  {
   "cell_type": "code",
   "execution_count": 31,
   "metadata": {
    "ExecuteTime": {
     "end_time": "2020-10-19T12:30:27.468709Z",
     "start_time": "2020-10-19T12:30:27.455330Z"
    }
   },
   "outputs": [],
   "source": [
    "def validation(X, Y, parameters):\n",
    "    \"\"\"\n",
    "    Argument:\n",
    "    X -- input data of size (n_x, m)\n",
    "    Y -- output data of size (n_y, m)\n",
    "    parameters -- python dictionary containing your parameters (output of initialization function)\n",
    "    \n",
    "    Returns:\n",
    "    A2 -- The sigmoid output of the second activation\n",
    "    cache -- a dictionary containing \"Z1\", \"A1\", \"Z2\" and \"A2\"\n",
    "    cost -- the value of cost\n",
    "    grads -- a dictionary contains derivatives to update parameters\n",
    "    \"\"\"\n",
    "    # Regresa cada parametro del diccionario \"parameters\"\n",
    "    \n",
    "    W1 = parameters[\"W1\"]\n",
    "    b1 = parameters[\"b1\"]\n",
    "    W2 = parameters[\"W2\"]\n",
    "    b2 = parameters[\"b2\"]\n",
    "    \n",
    "    # Pasos 1 y 2:\n",
    "    \n",
    "    # Zi es la combinacion lineal entre x y w\n",
    "    # Ai es la aplicacion de una funcion de activacion a Zi:\n",
    "    \n",
    "    Z1 = np.dot(W1, X) + b1\n",
    "    A1 = tanh(Z1)\n",
    "    Z2 = np.dot(W2, A1) + b2\n",
    "    A2 = Z2\n",
    "    \n",
    "    # se verifican las dimensiones de A2:\n",
    "    \n",
    "    assert(A2.shape == (1, X.shape[1]))\n",
    "\n",
    "    # Paso 3:\n",
    "    \n",
    "    # numero de muestras:\n",
    "    \n",
    "    m = Y.shape[1] \n",
    "    \n",
    "    # se calcula el costo:\n",
    "\n",
    "    cost = (1/m)*np.sum((Y-A2)**2)\n",
    "    \n",
    "    # Asegura que cost sea un escalar:\n",
    "    \n",
    "    cost = np.squeeze(cost)      \n",
    "                                \n",
    "    assert(isinstance(cost, float))  \n",
    "    \n",
    "    return cost"
   ]
  },
  {
   "cell_type": "markdown",
   "metadata": {},
   "source": [
    "<font size=5 color='blue'>\n",
    "\n",
    "Cálculo de la función de costo durante la optimización de los parámetros que definen al modelo."
   ]
  },
  {
   "cell_type": "markdown",
   "metadata": {},
   "source": [
    "<font size=4>\n",
    "\n",
    "Recordemos que la función de costo, $J$, nos permite saber qué tan bien se esta ajustando el modelo a la variable objetivo de las muestras. \n",
    "\n",
    "Para ello se buscan los parámetros que minimicen a esta función. \n",
    "\n",
    "En el presente caso, la función de costo está definida por la relación siguiente: \n",
    "\n",
    "$$J = \\dfrac{1}{m}\\sum_{i=0}^{m}(y_i-a_i)^2$$"
   ]
  },
  {
   "cell_type": "code",
   "execution_count": 32,
   "metadata": {
    "ExecuteTime": {
     "end_time": "2020-10-19T12:30:27.487768Z",
     "start_time": "2020-10-19T12:30:27.469959Z"
    }
   },
   "outputs": [],
   "source": [
    "def compute_cost(A2, Y, parameters):\n",
    "    \"\"\"\n",
    "    Computes the cross-entropy cost given in equation (13)\n",
    "    \n",
    "    Arguments:\n",
    "    A2 -- The sigmoid output of the second activation, of shape (1, number of examples)\n",
    "    Y -- \"true\" labels vector of shape (1, number of examples)\n",
    "    parameters -- python dictionary containing your parameters W1, b1, W2 and b2\n",
    "    \n",
    "    Returns:\n",
    "    cost -- cross-entropy cost given equation (13)\n",
    "    \"\"\"\n",
    "    \n",
    "    m = Y.shape[1] # number of samples\n",
    "    cost = (1/m)*np.sum((Y-A2)**2) \n",
    "    cost = np.squeeze(cost)    \n",
    "    assert(isinstance(cost, float))\n",
    "    \n",
    "    return cost"
   ]
  },
  {
   "cell_type": "markdown",
   "metadata": {},
   "source": [
    "<font size=4>\n",
    "\n",
    "Para encontrar a los valores optimos de los parametros, estos se acualizan en cada época empleando el algoritmo de gradiente descendente. El cual esta definido por la siguientes relaciones:\n",
    "\n",
    "$$ \\omega_k := \\omega_k - \\alpha \\dfrac{\\partial J(\\omega, b)}{\\partial \\omega_k}$$\n",
    "\n",
    "$$ b_l := b_l - \\alpha \\dfrac{\\partial J(\\omega, b)}{\\partial b_l}$$\n",
    "\n",
    "Es por ello necesario calcular las derivadas del costo respecto a cada uno de los parametros que definen al sistema de aprendizaje. $\\alpha$ es la relación de aprendizaje."
   ]
  },
  {
   "cell_type": "code",
   "execution_count": 33,
   "metadata": {
    "ExecuteTime": {
     "end_time": "2020-10-19T12:30:27.505202Z",
     "start_time": "2020-10-19T12:30:27.489153Z"
    }
   },
   "outputs": [],
   "source": [
    "def calculation_of_derivatives(parameters, cache, X, Y):\n",
    "    \"\"\"\n",
    "    Implement the backward propagation using the instructions above.\n",
    "    \n",
    "    Arguments:\n",
    "    parameters -- python dictionary containing our parameters \n",
    "    cache -- a dictionary containing \"Z1\", \"A1\", \"Z2\" and \"A2\".\n",
    "    X -- input data of shape (2, number of examples)\n",
    "    Y -- \"true\" labels vector of shape (1, number of examples)\n",
    "    \n",
    "    Returns:\n",
    "    grads -- python dictionary containing your gradients with respect to different parameters\n",
    "    \"\"\"\n",
    "    m = X.shape[1]\n",
    "    \n",
    "    W1 = parameters[\"W1\"]\n",
    "    W2 = parameters[\"W2\"]\n",
    "        \n",
    "    A1 = cache[\"A1\"]\n",
    "    A2 = cache[\"A2\"]\n",
    "    \n",
    "    # Calculo de derivadas\n",
    "    \n",
    "    dZ2 = 2*(A2-Y)\n",
    "    dW2 = (1/m)*np.dot(dZ2, A1.T)\n",
    "    db2 = (1/m)*np.sum(dZ2, axis = 1, keepdims = True)\n",
    "    dZ1 = np.dot(W2.T, dZ2)*(1-np.power(A1, 2))\n",
    "    dW1 = (1/m)*np.dot(dZ1, X.T)\n",
    "    db1 = (1/m)*np.sum(dZ1, axis = 1, keepdims = True)\n",
    "    \n",
    "    grads = {\"dW1\": dW1,\n",
    "             \"db1\": db1,\n",
    "             \"dW2\": dW2,\n",
    "             \"db2\": db2}\n",
    "    \n",
    "    return grads"
   ]
  },
  {
   "cell_type": "markdown",
   "metadata": {},
   "source": [
    "<font size=5 color='blue'>\n",
    "Optimizacion de los pesos y los bias."
   ]
  },
  {
   "cell_type": "code",
   "execution_count": 34,
   "metadata": {
    "ExecuteTime": {
     "end_time": "2020-10-19T12:30:27.522525Z",
     "start_time": "2020-10-19T12:30:27.506639Z"
    }
   },
   "outputs": [],
   "source": [
    "def optimize(parameters, grads, learning_rate = 0.1):\n",
    "    \"\"\"\n",
    "    Updates parameters using the gradient descent update rule given above\n",
    "    \n",
    "    Arguments:\n",
    "    parameters -- python dictionary containing your parameters \n",
    "    grads -- python dictionary containing your gradients \n",
    "    \n",
    "    Returns:\n",
    "    parameters -- python dictionary containing your updated parameters \n",
    "    \"\"\"\n",
    "    # Retrieve each parameter from the dictionary \"parameters\"\n",
    "    W1 = parameters[\"W1\"]\n",
    "    b1 = parameters[\"b1\"]\n",
    "    W2 = parameters[\"W2\"]\n",
    "    b2 = parameters[\"b2\"]\n",
    "    \n",
    "    # Retrieve each gradient from the dictionary \"grads\"\n",
    "    dW1 = grads[\"dW1\"]\n",
    "    db1 = grads[\"db1\"]\n",
    "    dW2 = grads[\"dW2\"]\n",
    "    db2 = grads[\"db2\"]\n",
    "    \n",
    "    # Update rule for each parameter\n",
    "    W1 = W1-learning_rate*dW1\n",
    "    b1 = b1-learning_rate*db1\n",
    "    W2 = W2-learning_rate*dW2\n",
    "    b2 = b2-learning_rate*db2\n",
    "    \n",
    "    parameters = {\"W1\": W1,\n",
    "                  \"b1\": b1,\n",
    "                  \"W2\": W2,\n",
    "                  \"b2\": b2}\n",
    "    \n",
    "    return parameters"
   ]
  },
  {
   "cell_type": "markdown",
   "metadata": {},
   "source": [
    "<font size=5 color='blue'>\n",
    "Las predicciones se realizan con los parametros óptimos encontrados en el entrenamiento."
   ]
  },
  {
   "cell_type": "code",
   "execution_count": 35,
   "metadata": {
    "ExecuteTime": {
     "end_time": "2020-10-19T12:30:27.541290Z",
     "start_time": "2020-10-19T12:30:27.524245Z"
    }
   },
   "outputs": [],
   "source": [
    "def predict(parameters, X, Y):\n",
    "    \"\"\"\n",
    "    Using the learned parameters, predicts a class for each example in X\n",
    "    \n",
    "    Arguments:\n",
    "    parameters -- python dictionary containing your parameters \n",
    "    X -- input data of size (n_x, m)\n",
    "    \n",
    "    Returns\n",
    "    predictions -- vector of predictions of our model\n",
    "    \"\"\"\n",
    "    predictions =  []\n",
    "    A2, cache, cost, grads = propagate(X, Y, parameters)\n",
    "    predictions = tanh(A2) \n",
    "    \n",
    "    return predictions"
   ]
  },
  {
   "cell_type": "markdown",
   "metadata": {},
   "source": [
    "<font size=5 color='blue'>\n",
    "    \n",
    "Las funciones anteriores se integran para generar, entrenar y validar la red neuronal."
   ]
  },
  {
   "cell_type": "code",
   "execution_count": 36,
   "metadata": {
    "ExecuteTime": {
     "end_time": "2020-10-19T12:30:27.556923Z",
     "start_time": "2020-10-19T12:30:27.542893Z"
    }
   },
   "outputs": [],
   "source": [
    "def nn_model(X, Y, val_ratio, n_h, epochs, alpha, print_cost=False):\n",
    "    \"\"\"\n",
    "    Arguments:\n",
    "    X -- dataset of shape (2, number of examples)\n",
    "    Y -- labels of shape (1, number of examples)\n",
    "    n_h -- size of the hidden layer\n",
    "    num_iterations -- Number of iterations in gradient descent loop\n",
    "    print_cost -- if True, print the cost every 1000 iterations\n",
    "    \n",
    "    Returns:\n",
    "    parameters -- parameters learnt by the model. They can then be used to predict.\n",
    "    \"\"\"\n",
    "    \n",
    "    train_ratio = int((1-val_ratio)*X.shape[1])\n",
    "    X_dev = X[:,train_ratio:]\n",
    "    Y_dev = Y[:,train_ratio:]\n",
    "\n",
    "    X = X[:,:train_ratio]\n",
    "    Y = Y[:,:train_ratio]\n",
    "    \n",
    "    print(\"Train\",X.shape,Y.shape)\n",
    "    print(\"val\",X_dev.shape,Y_dev.shape)\n",
    "    \n",
    "    np.random.seed(3)\n",
    "    \n",
    "    n_x, n_h, n_y = layer_sizes(X, Y, n_h = n_h)\n",
    "        \n",
    "    # Initialize parameters, then retrieve W1, b1, W2, b2. Inputs: \"n_x, n_h, n_y\". Outputs = \"W1, b1, W2, b2, parameters\".\n",
    "    parameters = initialize_parameters(n_x, n_h, n_y)\n",
    "    W1 = parameters[\"W1\"]\n",
    "    b1 = parameters[\"b1\"] \n",
    "    W2 = parameters[\"W2\"]\n",
    "    b2 = parameters[\"b2\"]\n",
    "    \n",
    "    # Loop (gradient descent)\n",
    "    \n",
    "    costs=[]\n",
    "    costs_dev = []\n",
    "    params = []\n",
    "    \n",
    "\n",
    "    for i in range(0, epochs):\n",
    "         \n",
    "        A2, cache, cost, grads = propagate(X, Y, parameters)\n",
    "        \n",
    "        cost_dev = validation(X_dev, Y_dev, parameters)\n",
    " \n",
    "        parameters = optimize(parameters, grads, alpha)\n",
    "        \n",
    "        params.append(parameters)\n",
    "        \n",
    "        costs.append(cost)\n",
    "        \n",
    "        costs_dev.append(cost_dev)\n",
    "                \n",
    "        # Print the cost every 1000 iterations\n",
    "        if print_cost and i % 100 == 0:\n",
    "            print (\"Cost and Cost_val in epoch %i: %f %f\" %(i, cost, cost_dev))\n",
    "            \n",
    "    return parameters, costs, params, costs_dev"
   ]
  },
  {
   "cell_type": "markdown",
   "metadata": {
    "ExecuteTime": {
     "end_time": "2020-10-13T17:25:36.366411Z",
     "start_time": "2020-10-13T17:25:36.359140Z"
    }
   },
   "source": [
    "<font size=5 color='blue'>\n",
    "\n",
    "Entrenamiento:"
   ]
  },
  {
   "cell_type": "markdown",
   "metadata": {},
   "source": [
    "<font size=5 color='black'> \n",
    "Para monitorear el aprendizaje, las muestras para el aprendizaje se dividen en dos grupos:"
   ]
  },
  {
   "cell_type": "markdown",
   "metadata": {},
   "source": [
    "<font size=4 color='black'>\n",
    "El (1.0 - val_ratio) (90% en el presente caso) de ellas se emplean para realizar el aprendizaje y el (val_ratio) (el 10% en el presente caso) restante para evaluar, \"validar\", la calidad del aprendizaje."
   ]
  },
  {
   "cell_type": "code",
   "execution_count": 37,
   "metadata": {
    "ExecuteTime": {
     "end_time": "2020-10-19T12:30:27.915899Z",
     "start_time": "2020-10-19T12:30:27.558441Z"
    }
   },
   "outputs": [
    {
     "name": "stdout",
     "output_type": "stream",
     "text": [
      "Train (10, 357) (1, 357)\n",
      "val (10, 40) (1, 40)\n",
      "Cost and Cost_val in epoch 0: 1.010204 1.071369\n",
      "Cost and Cost_val in epoch 100: 0.838313 0.862084\n",
      "Cost and Cost_val in epoch 200: 0.582608 0.568545\n",
      "Cost and Cost_val in epoch 300: 0.527553 0.501253\n",
      "Cost and Cost_val in epoch 400: 0.512732 0.475378\n",
      "Cost and Cost_val in epoch 500: 0.509077 0.464459\n",
      "Cost and Cost_val in epoch 600: 0.507812 0.459213\n",
      "Cost and Cost_val in epoch 700: 0.507054 0.456480\n",
      "Cost and Cost_val in epoch 800: 0.506456 0.454985\n",
      "Cost and Cost_val in epoch 900: 0.505934 0.454124\n",
      "Cost and Cost_val in epoch 1000: 0.505454 0.453592\n",
      "Cost and Cost_val in epoch 1100: 0.505001 0.453238\n",
      "Cost and Cost_val in epoch 1200: 0.504565 0.452984\n",
      "Cost and Cost_val in epoch 1300: 0.504143 0.452789\n",
      "Cost and Cost_val in epoch 1400: 0.503728 0.452629\n",
      "Cost and Cost_val in epoch 1500: 0.503321 0.452491\n",
      "Cost and Cost_val in epoch 1600: 0.502916 0.452367\n",
      "Cost and Cost_val in epoch 1700: 0.502514 0.452252\n",
      "Cost and Cost_val in epoch 1800: 0.502110 0.452142\n",
      "Cost and Cost_val in epoch 1900: 0.501704 0.452033\n"
     ]
    }
   ],
   "source": [
    "epochs = 2000\n",
    "learning_rate = 0.008\n",
    "val_ratio = 0.1\n",
    "n_h = 4\n",
    "\n",
    "opt_parameters, costs, params, costs_dev = nn_model(x_train, y_train, val_ratio=val_ratio, n_h = n_h, epochs = epochs, alpha=learning_rate, print_cost=True)\n"
   ]
  },
  {
   "cell_type": "code",
   "execution_count": 38,
   "metadata": {
    "ExecuteTime": {
     "end_time": "2020-10-19T12:30:28.050603Z",
     "start_time": "2020-10-19T12:30:27.918179Z"
    }
   },
   "outputs": [
    {
     "data": {
      "image/png": "[encoded data removed]",
      "text/plain": [
       "<Figure size 432x288 with 1 Axes>"
      ]
     },
     "metadata": {
      "needs_background": "light"
     },
     "output_type": "display_data"
    }
   ],
   "source": [
    "costs = np.squeeze(costs)\n",
    "plt.plot(costs, color='magenta')\n",
    "plt.plot(costs_dev, color='blue')\n",
    "\n",
    "plt.ylabel('Cost')\n",
    "plt.xlabel('epochs')\n",
    "plt.legend(['cost_train', 'cost_validation']);"
   ]
  },
  {
   "cell_type": "markdown",
   "metadata": {},
   "source": [
    "<font size=4>\n",
    "    \n",
    " ## Precision:\n",
    "\n",
    "Para calcular la precision del modelo se usa el error cuadrático medio, MSE:\n",
    "\n",
    "$$100-MSE*100$$\n",
    "\n",
    "es decir\n",
    "\n",
    "$$100-(\\dfrac{1}{m_{test}}\\sum_{i=1}^{m_{test}} (y_{i}-a_{i})^2)*100$$"
   ]
  },
  {
   "cell_type": "code",
   "execution_count": 39,
   "metadata": {
    "ExecuteTime": {
     "end_time": "2020-10-19T12:30:28.058593Z",
     "start_time": "2020-10-19T12:30:28.052555Z"
    }
   },
   "outputs": [
    {
     "name": "stdout",
     "output_type": "stream",
     "text": [
      "train accuracy: 46.521153779462665 %\n"
     ]
    }
   ],
   "source": [
    "predictions_train = predict(opt_parameters, x_train, y_train)\n",
    "\n",
    "print(\"train accuracy: {} %\".format(100 - np.mean(np.power(predictions_train-y_train, 2)) * 100))"
   ]
  },
  {
   "cell_type": "code",
   "execution_count": 40,
   "metadata": {
    "ExecuteTime": {
     "end_time": "2020-10-19T12:30:28.072239Z",
     "start_time": "2020-10-19T12:30:28.060934Z"
    }
   },
   "outputs": [
    {
     "name": "stdout",
     "output_type": "stream",
     "text": [
      "test accuracy: 43.40289055441179 %\n"
     ]
    }
   ],
   "source": [
    "predictions_test = predict(opt_parameters, x_test, y_test)\n",
    "print(\"test accuracy: {} %\".format(100 - np.mean(np.power(predictions_test-y_test, 2)) * 100))"
   ]
  },
  {
   "cell_type": "markdown",
   "metadata": {},
   "source": [
    "___"
   ]
  },
  {
   "cell_type": "markdown",
   "metadata": {},
   "source": [
    "<font size=4 color='blue'>\n",
    "\n",
    "# Implementación de una red neuronal con Keras\n",
    "\n",
    "[Keras](https://keras.io/)"
   ]
  },
  {
   "cell_type": "raw",
   "metadata": {},
   "source": [
    "! conda install -c conda-forge keras=2.3.1"
   ]
  },
  {
   "cell_type": "code",
   "execution_count": 41,
   "metadata": {
    "ExecuteTime": {
     "end_time": "2020-10-19T12:30:29.198262Z",
     "start_time": "2020-10-19T12:30:28.074296Z"
    }
   },
   "outputs": [],
   "source": [
    "import tensorflow as tf\n",
    "from tensorflow import keras\n",
    "from tensorflow.keras.models import Sequential\n",
    "from tensorflow.keras.layers import Input, Dense, Flatten\n",
    "from tensorflow.keras.layers import Activation\n",
    "from tensorflow.keras.optimizers import SGD, Adam\n",
    "from tensorflow.keras.models import Model\n",
    "from tensorflow.keras.utils import plot_model\n",
    "from tensorflow.keras import initializers\n",
    "\n",
    "np.random.seed(1)"
   ]
  },
  {
   "cell_type": "code",
   "execution_count": 42,
   "metadata": {
    "ExecuteTime": {
     "end_time": "2020-10-19T12:30:29.203899Z",
     "start_time": "2020-10-19T12:30:29.200024Z"
    }
   },
   "outputs": [
    {
     "data": {
      "text/plain": [
       "'2.6.0'"
      ]
     },
     "execution_count": 42,
     "metadata": {},
     "output_type": "execute_result"
    }
   ],
   "source": [
    "keras.__version__"
   ]
  },
  {
   "cell_type": "markdown",
   "metadata": {},
   "source": [
    "## Definición de la arquitectura"
   ]
  },
  {
   "cell_type": "code",
   "execution_count": 43,
   "metadata": {
    "ExecuteTime": {
     "end_time": "2020-10-19T12:30:29.215670Z",
     "start_time": "2020-10-19T12:30:29.205856Z"
    }
   },
   "outputs": [],
   "source": [
    "def architecture(input_shape, activation):\n",
    "    \n",
    "    model = Sequential()\n",
    "        \n",
    "    model.add(Dense(4, kernel_initializer='uniform', bias_initializer='zeros', \n",
    "                    activation=activation, \n",
    "                    input_shape=input_shape))    \n",
    "    model.add(Dense(1, kernel_initializer='uniform', bias_initializer='zeros', \n",
    "                    activation = activation))\n",
    "    \n",
    "    return model"
   ]
  },
  {
   "cell_type": "code",
   "execution_count": 44,
   "metadata": {
    "ExecuteTime": {
     "end_time": "2020-10-19T12:30:29.270312Z",
     "start_time": "2020-10-19T12:30:29.217078Z"
    }
   },
   "outputs": [],
   "source": [
    "input_shape = (10,)\n",
    "activation = 'tanh'\n",
    "\n",
    "model_keras = architecture(input_shape=input_shape, activation=activation)"
   ]
  },
  {
   "cell_type": "code",
   "execution_count": 45,
   "metadata": {
    "ExecuteTime": {
     "end_time": "2020-10-19T12:30:29.339922Z",
     "start_time": "2020-10-19T12:30:29.271780Z"
    }
   },
   "outputs": [
    {
     "name": "stdout",
     "output_type": "stream",
     "text": [
      "('You must install pydot (`pip install pydot`) and install graphviz (see instructions at https://graphviz.gitlab.io/download/) ', 'for plot_model/model_to_dot to work.')\n"
     ]
    }
   ],
   "source": [
    "plot_model(model_keras, to_file='model.png', show_shapes=True, rankdir='TB', \n",
    "      expand_nested=True, show_layer_names=True, dpi=96)"
   ]
  },
  {
   "cell_type": "code",
   "execution_count": 46,
   "metadata": {
    "ExecuteTime": {
     "end_time": "2020-10-19T12:30:29.345560Z",
     "start_time": "2020-10-19T12:30:29.341445Z"
    }
   },
   "outputs": [
    {
     "name": "stdout",
     "output_type": "stream",
     "text": [
      "Model: \"sequential\"\n",
      "_________________________________________________________________\n",
      "Layer (type)                 Output Shape              Param #   \n",
      "=================================================================\n",
      "dense (Dense)                (None, 4)                 44        \n",
      "_________________________________________________________________\n",
      "dense_1 (Dense)              (None, 1)                 5         \n",
      "=================================================================\n",
      "Total params: 49\n",
      "Trainable params: 49\n",
      "Non-trainable params: 0\n",
      "_________________________________________________________________\n"
     ]
    }
   ],
   "source": [
    "model_keras.summary()"
   ]
  },
  {
   "cell_type": "markdown",
   "metadata": {},
   "source": [
    "## Compilación"
   ]
  },
  {
   "cell_type": "code",
   "execution_count": 47,
   "metadata": {
    "ExecuteTime": {
     "end_time": "2020-10-19T12:30:29.458293Z",
     "start_time": "2020-10-19T12:30:29.346910Z"
    }
   },
   "outputs": [],
   "source": [
    "lr = 0.001\n",
    "opt = Adam(learning_rate=lr)\n",
    "loss = tf.keras.losses.MeanSquaredError()\n",
    "acc = tf.keras.metrics.MeanSquaredError()\n",
    "\n",
    "model_keras.compile(loss=loss, \n",
    "              optimizer=opt,\n",
    "              metrics=[acc])"
   ]
  },
  {
   "cell_type": "markdown",
   "metadata": {},
   "source": [
    "## Entrenamiento"
   ]
  },
  {
   "cell_type": "code",
   "execution_count": 48,
   "metadata": {},
   "outputs": [
    {
     "name": "stdout",
     "output_type": "stream",
     "text": [
      "Epoch 1/200\n",
      "12/12 - 1s - loss: 0.9851 - mean_squared_error: 0.9851 - val_loss: 1.0389 - val_mean_squared_error: 1.0389\n",
      "Epoch 2/200\n",
      "12/12 - 0s - loss: 0.9749 - mean_squared_error: 0.9749 - val_loss: 1.0228 - val_mean_squared_error: 1.0228\n",
      "Epoch 3/200\n",
      "12/12 - 0s - loss: 0.9587 - mean_squared_error: 0.9587 - val_loss: 0.9976 - val_mean_squared_error: 0.9976\n",
      "Epoch 4/200\n",
      "12/12 - 0s - loss: 0.9338 - mean_squared_error: 0.9338 - val_loss: 0.9642 - val_mean_squared_error: 0.9642\n",
      "Epoch 5/200\n",
      "12/12 - 0s - loss: 0.9035 - mean_squared_error: 0.9035 - val_loss: 0.9238 - val_mean_squared_error: 0.9238\n",
      "Epoch 6/200\n",
      "12/12 - 0s - loss: 0.8668 - mean_squared_error: 0.8668 - val_loss: 0.8810 - val_mean_squared_error: 0.8810\n",
      "Epoch 7/200\n",
      "12/12 - 0s - loss: 0.8300 - mean_squared_error: 0.8300 - val_loss: 0.8394 - val_mean_squared_error: 0.8394\n",
      "Epoch 8/200\n",
      "12/12 - 0s - loss: 0.7936 - mean_squared_error: 0.7936 - val_loss: 0.8032 - val_mean_squared_error: 0.8032\n",
      "Epoch 9/200\n",
      "12/12 - 0s - loss: 0.7613 - mean_squared_error: 0.7613 - val_loss: 0.7708 - val_mean_squared_error: 0.7708\n",
      "Epoch 10/200\n",
      "12/12 - 0s - loss: 0.7332 - mean_squared_error: 0.7332 - val_loss: 0.7428 - val_mean_squared_error: 0.7428\n",
      "Epoch 11/200\n",
      "12/12 - 0s - loss: 0.7079 - mean_squared_error: 0.7079 - val_loss: 0.7206 - val_mean_squared_error: 0.7206\n",
      "Epoch 12/200\n",
      "12/12 - 0s - loss: 0.6885 - mean_squared_error: 0.6885 - val_loss: 0.6998 - val_mean_squared_error: 0.6998\n",
      "Epoch 13/200\n",
      "12/12 - 0s - loss: 0.6695 - mean_squared_error: 0.6695 - val_loss: 0.6833 - val_mean_squared_error: 0.6833\n",
      "Epoch 14/200\n",
      "12/12 - 0s - loss: 0.6548 - mean_squared_error: 0.6548 - val_loss: 0.6698 - val_mean_squared_error: 0.6698\n",
      "Epoch 15/200\n",
      "12/12 - 0s - loss: 0.6415 - mean_squared_error: 0.6415 - val_loss: 0.6570 - val_mean_squared_error: 0.6570\n",
      "Epoch 16/200\n",
      "12/12 - 0s - loss: 0.6301 - mean_squared_error: 0.6301 - val_loss: 0.6459 - val_mean_squared_error: 0.6459\n",
      "Epoch 17/200\n",
      "12/12 - 0s - loss: 0.6196 - mean_squared_error: 0.6196 - val_loss: 0.6361 - val_mean_squared_error: 0.6361\n",
      "Epoch 18/200\n",
      "12/12 - 0s - loss: 0.6104 - mean_squared_error: 0.6104 - val_loss: 0.6265 - val_mean_squared_error: 0.6265\n",
      "Epoch 19/200\n",
      "12/12 - 0s - loss: 0.6026 - mean_squared_error: 0.6026 - val_loss: 0.6188 - val_mean_squared_error: 0.6188\n",
      "Epoch 20/200\n",
      "12/12 - 0s - loss: 0.5955 - mean_squared_error: 0.5955 - val_loss: 0.6127 - val_mean_squared_error: 0.6127\n",
      "Epoch 21/200\n",
      "12/12 - 0s - loss: 0.5900 - mean_squared_error: 0.5900 - val_loss: 0.6045 - val_mean_squared_error: 0.6045\n",
      "Epoch 22/200\n",
      "12/12 - 0s - loss: 0.5841 - mean_squared_error: 0.5841 - val_loss: 0.5976 - val_mean_squared_error: 0.5976\n",
      "Epoch 23/200\n",
      "12/12 - 0s - loss: 0.5802 - mean_squared_error: 0.5802 - val_loss: 0.5930 - val_mean_squared_error: 0.5930\n",
      "Epoch 24/200\n",
      "12/12 - 0s - loss: 0.5760 - mean_squared_error: 0.5760 - val_loss: 0.5876 - val_mean_squared_error: 0.5876\n",
      "Epoch 25/200\n",
      "12/12 - 0s - loss: 0.5717 - mean_squared_error: 0.5717 - val_loss: 0.5838 - val_mean_squared_error: 0.5838\n",
      "Epoch 26/200\n",
      "12/12 - 0s - loss: 0.5675 - mean_squared_error: 0.5675 - val_loss: 0.5763 - val_mean_squared_error: 0.5763\n",
      "Epoch 27/200\n",
      "12/12 - 0s - loss: 0.5637 - mean_squared_error: 0.5637 - val_loss: 0.5727 - val_mean_squared_error: 0.5727\n",
      "Epoch 28/200\n",
      "12/12 - 0s - loss: 0.5610 - mean_squared_error: 0.5610 - val_loss: 0.5698 - val_mean_squared_error: 0.5698\n",
      "Epoch 29/200\n",
      "12/12 - 0s - loss: 0.5586 - mean_squared_error: 0.5586 - val_loss: 0.5667 - val_mean_squared_error: 0.5667\n",
      "Epoch 30/200\n",
      "12/12 - 0s - loss: 0.5562 - mean_squared_error: 0.5562 - val_loss: 0.5637 - val_mean_squared_error: 0.5637\n",
      "Epoch 31/200\n",
      "12/12 - 0s - loss: 0.5543 - mean_squared_error: 0.5543 - val_loss: 0.5608 - val_mean_squared_error: 0.5608\n",
      "Epoch 32/200\n",
      "12/12 - 0s - loss: 0.5527 - mean_squared_error: 0.5527 - val_loss: 0.5579 - val_mean_squared_error: 0.5579\n",
      "Epoch 33/200\n",
      "12/12 - 0s - loss: 0.5508 - mean_squared_error: 0.5508 - val_loss: 0.5565 - val_mean_squared_error: 0.5565\n",
      "Epoch 34/200\n",
      "12/12 - 0s - loss: 0.5498 - mean_squared_error: 0.5498 - val_loss: 0.5529 - val_mean_squared_error: 0.5529\n",
      "Epoch 35/200\n",
      "12/12 - 0s - loss: 0.5482 - mean_squared_error: 0.5482 - val_loss: 0.5531 - val_mean_squared_error: 0.5531\n",
      "Epoch 36/200\n",
      "12/12 - 0s - loss: 0.5470 - mean_squared_error: 0.5470 - val_loss: 0.5506 - val_mean_squared_error: 0.5506\n",
      "Epoch 37/200\n",
      "12/12 - 0s - loss: 0.5458 - mean_squared_error: 0.5458 - val_loss: 0.5488 - val_mean_squared_error: 0.5488\n",
      "Epoch 38/200\n",
      "12/12 - 0s - loss: 0.5452 - mean_squared_error: 0.5452 - val_loss: 0.5470 - val_mean_squared_error: 0.5470\n",
      "Epoch 39/200\n",
      "12/12 - 0s - loss: 0.5442 - mean_squared_error: 0.5442 - val_loss: 0.5445 - val_mean_squared_error: 0.5445\n",
      "Epoch 40/200\n",
      "12/12 - 0s - loss: 0.5438 - mean_squared_error: 0.5438 - val_loss: 0.5424 - val_mean_squared_error: 0.5424\n",
      "Epoch 41/200\n",
      "12/12 - 0s - loss: 0.5432 - mean_squared_error: 0.5432 - val_loss: 0.5411 - val_mean_squared_error: 0.5411\n",
      "Epoch 42/200\n",
      "12/12 - 0s - loss: 0.5428 - mean_squared_error: 0.5428 - val_loss: 0.5391 - val_mean_squared_error: 0.5391\n",
      "Epoch 43/200\n",
      "12/12 - 0s - loss: 0.5420 - mean_squared_error: 0.5420 - val_loss: 0.5367 - val_mean_squared_error: 0.5367\n",
      "Epoch 44/200\n",
      "12/12 - 0s - loss: 0.5412 - mean_squared_error: 0.5412 - val_loss: 0.5345 - val_mean_squared_error: 0.5345\n",
      "Epoch 45/200\n",
      "12/12 - 0s - loss: 0.5404 - mean_squared_error: 0.5404 - val_loss: 0.5327 - val_mean_squared_error: 0.5327\n",
      "Epoch 46/200\n",
      "12/12 - 0s - loss: 0.5401 - mean_squared_error: 0.5401 - val_loss: 0.5313 - val_mean_squared_error: 0.5313\n",
      "Epoch 47/200\n",
      "12/12 - 0s - loss: 0.5398 - mean_squared_error: 0.5398 - val_loss: 0.5309 - val_mean_squared_error: 0.5309\n",
      "Epoch 48/200\n",
      "12/12 - 0s - loss: 0.5396 - mean_squared_error: 0.5396 - val_loss: 0.5299 - val_mean_squared_error: 0.5299\n",
      "Epoch 49/200\n",
      "12/12 - 0s - loss: 0.5397 - mean_squared_error: 0.5397 - val_loss: 0.5293 - val_mean_squared_error: 0.5293\n",
      "Epoch 50/200\n",
      "12/12 - 0s - loss: 0.5388 - mean_squared_error: 0.5388 - val_loss: 0.5267 - val_mean_squared_error: 0.5267\n",
      "Epoch 51/200\n",
      "12/12 - 0s - loss: 0.5391 - mean_squared_error: 0.5391 - val_loss: 0.5244 - val_mean_squared_error: 0.5244\n",
      "Epoch 52/200\n",
      "12/12 - 0s - loss: 0.5384 - mean_squared_error: 0.5384 - val_loss: 0.5243 - val_mean_squared_error: 0.5243\n",
      "Epoch 53/200\n",
      "12/12 - 0s - loss: 0.5381 - mean_squared_error: 0.5381 - val_loss: 0.5231 - val_mean_squared_error: 0.5231\n",
      "Epoch 54/200\n",
      "12/12 - 0s - loss: 0.5380 - mean_squared_error: 0.5380 - val_loss: 0.5226 - val_mean_squared_error: 0.5226\n",
      "Epoch 55/200\n",
      "12/12 - 0s - loss: 0.5376 - mean_squared_error: 0.5376 - val_loss: 0.5227 - val_mean_squared_error: 0.5227\n",
      "Epoch 56/200\n",
      "12/12 - 0s - loss: 0.5374 - mean_squared_error: 0.5374 - val_loss: 0.5225 - val_mean_squared_error: 0.5225\n",
      "Epoch 57/200\n",
      "12/12 - 0s - loss: 0.5371 - mean_squared_error: 0.5371 - val_loss: 0.5214 - val_mean_squared_error: 0.5214\n",
      "Epoch 58/200\n",
      "12/12 - 0s - loss: 0.5372 - mean_squared_error: 0.5372 - val_loss: 0.5213 - val_mean_squared_error: 0.5213\n",
      "Epoch 59/200\n",
      "12/12 - 0s - loss: 0.5367 - mean_squared_error: 0.5367 - val_loss: 0.5208 - val_mean_squared_error: 0.5208\n",
      "Epoch 60/200\n",
      "12/12 - 0s - loss: 0.5363 - mean_squared_error: 0.5363 - val_loss: 0.5204 - val_mean_squared_error: 0.5204\n",
      "Epoch 61/200\n",
      "12/12 - 0s - loss: 0.5360 - mean_squared_error: 0.5360 - val_loss: 0.5205 - val_mean_squared_error: 0.5205\n",
      "Epoch 62/200\n",
      "12/12 - 0s - loss: 0.5360 - mean_squared_error: 0.5360 - val_loss: 0.5201 - val_mean_squared_error: 0.5201\n",
      "Epoch 63/200\n",
      "12/12 - 0s - loss: 0.5358 - mean_squared_error: 0.5358 - val_loss: 0.5199 - val_mean_squared_error: 0.5199\n",
      "Epoch 64/200\n",
      "12/12 - 0s - loss: 0.5357 - mean_squared_error: 0.5357 - val_loss: 0.5191 - val_mean_squared_error: 0.5191\n",
      "Epoch 65/200\n",
      "12/12 - 0s - loss: 0.5363 - mean_squared_error: 0.5363 - val_loss: 0.5181 - val_mean_squared_error: 0.5181\n",
      "Epoch 66/200\n",
      "12/12 - 0s - loss: 0.5355 - mean_squared_error: 0.5355 - val_loss: 0.5180 - val_mean_squared_error: 0.5180\n",
      "Epoch 67/200\n",
      "12/12 - 0s - loss: 0.5358 - mean_squared_error: 0.5358 - val_loss: 0.5202 - val_mean_squared_error: 0.5202\n",
      "Epoch 68/200\n",
      "12/12 - 0s - loss: 0.5354 - mean_squared_error: 0.5354 - val_loss: 0.5185 - val_mean_squared_error: 0.5185\n",
      "Epoch 69/200\n",
      "12/12 - 0s - loss: 0.5356 - mean_squared_error: 0.5356 - val_loss: 0.5160 - val_mean_squared_error: 0.5160\n"
     ]
    },
    {
     "name": "stdout",
     "output_type": "stream",
     "text": [
      "Epoch 70/200\n",
      "12/12 - 0s - loss: 0.5353 - mean_squared_error: 0.5353 - val_loss: 0.5165 - val_mean_squared_error: 0.5165\n",
      "Epoch 71/200\n",
      "12/12 - 0s - loss: 0.5346 - mean_squared_error: 0.5346 - val_loss: 0.5163 - val_mean_squared_error: 0.5163\n",
      "Epoch 72/200\n",
      "12/12 - 0s - loss: 0.5344 - mean_squared_error: 0.5344 - val_loss: 0.5172 - val_mean_squared_error: 0.5172\n",
      "Epoch 73/200\n",
      "12/12 - 0s - loss: 0.5344 - mean_squared_error: 0.5344 - val_loss: 0.5167 - val_mean_squared_error: 0.5167\n",
      "Epoch 74/200\n",
      "12/12 - 0s - loss: 0.5343 - mean_squared_error: 0.5343 - val_loss: 0.5174 - val_mean_squared_error: 0.5174\n",
      "Epoch 75/200\n",
      "12/12 - 0s - loss: 0.5347 - mean_squared_error: 0.5347 - val_loss: 0.5148 - val_mean_squared_error: 0.5148\n",
      "Epoch 76/200\n",
      "12/12 - 0s - loss: 0.5342 - mean_squared_error: 0.5342 - val_loss: 0.5130 - val_mean_squared_error: 0.5130\n",
      "Epoch 77/200\n",
      "12/12 - 0s - loss: 0.5342 - mean_squared_error: 0.5342 - val_loss: 0.5124 - val_mean_squared_error: 0.5124\n",
      "Epoch 78/200\n",
      "12/12 - 0s - loss: 0.5339 - mean_squared_error: 0.5339 - val_loss: 0.5118 - val_mean_squared_error: 0.5118\n",
      "Epoch 79/200\n",
      "12/12 - 0s - loss: 0.5335 - mean_squared_error: 0.5335 - val_loss: 0.5122 - val_mean_squared_error: 0.5122\n",
      "Epoch 80/200\n",
      "12/12 - 0s - loss: 0.5333 - mean_squared_error: 0.5333 - val_loss: 0.5121 - val_mean_squared_error: 0.5121\n",
      "Epoch 81/200\n",
      "12/12 - 0s - loss: 0.5331 - mean_squared_error: 0.5331 - val_loss: 0.5127 - val_mean_squared_error: 0.5127\n",
      "Epoch 82/200\n",
      "12/12 - 0s - loss: 0.5332 - mean_squared_error: 0.5332 - val_loss: 0.5110 - val_mean_squared_error: 0.5110\n",
      "Epoch 83/200\n",
      "12/12 - 0s - loss: 0.5326 - mean_squared_error: 0.5326 - val_loss: 0.5115 - val_mean_squared_error: 0.5115\n",
      "Epoch 84/200\n",
      "12/12 - 0s - loss: 0.5326 - mean_squared_error: 0.5326 - val_loss: 0.5114 - val_mean_squared_error: 0.5114\n",
      "Epoch 85/200\n",
      "12/12 - 0s - loss: 0.5326 - mean_squared_error: 0.5326 - val_loss: 0.5112 - val_mean_squared_error: 0.5112\n",
      "Epoch 86/200\n",
      "12/12 - 0s - loss: 0.5324 - mean_squared_error: 0.5324 - val_loss: 0.5117 - val_mean_squared_error: 0.5117\n",
      "Epoch 87/200\n",
      "12/12 - 0s - loss: 0.5324 - mean_squared_error: 0.5324 - val_loss: 0.5109 - val_mean_squared_error: 0.5109\n",
      "Epoch 88/200\n",
      "12/12 - 0s - loss: 0.5324 - mean_squared_error: 0.5324 - val_loss: 0.5093 - val_mean_squared_error: 0.5093\n",
      "Epoch 89/200\n",
      "12/12 - 0s - loss: 0.5320 - mean_squared_error: 0.5320 - val_loss: 0.5100 - val_mean_squared_error: 0.5100\n",
      "Epoch 90/200\n",
      "12/12 - 0s - loss: 0.5319 - mean_squared_error: 0.5319 - val_loss: 0.5100 - val_mean_squared_error: 0.5100\n",
      "Epoch 91/200\n",
      "12/12 - 0s - loss: 0.5318 - mean_squared_error: 0.5318 - val_loss: 0.5111 - val_mean_squared_error: 0.5111\n",
      "Epoch 92/200\n",
      "12/12 - 0s - loss: 0.5315 - mean_squared_error: 0.5315 - val_loss: 0.5104 - val_mean_squared_error: 0.5104\n",
      "Epoch 93/200\n",
      "12/12 - 0s - loss: 0.5312 - mean_squared_error: 0.5312 - val_loss: 0.5098 - val_mean_squared_error: 0.5098\n",
      "Epoch 94/200\n",
      "12/12 - 0s - loss: 0.5314 - mean_squared_error: 0.5314 - val_loss: 0.5102 - val_mean_squared_error: 0.5102\n",
      "Epoch 95/200\n",
      "12/12 - 0s - loss: 0.5313 - mean_squared_error: 0.5313 - val_loss: 0.5091 - val_mean_squared_error: 0.5091\n",
      "Epoch 96/200\n",
      "12/12 - 0s - loss: 0.5312 - mean_squared_error: 0.5312 - val_loss: 0.5090 - val_mean_squared_error: 0.5090\n",
      "Epoch 97/200\n",
      "12/12 - 0s - loss: 0.5309 - mean_squared_error: 0.5309 - val_loss: 0.5077 - val_mean_squared_error: 0.5077\n",
      "Epoch 98/200\n",
      "12/12 - 0s - loss: 0.5305 - mean_squared_error: 0.5305 - val_loss: 0.5057 - val_mean_squared_error: 0.5057\n",
      "Epoch 99/200\n",
      "12/12 - 0s - loss: 0.5311 - mean_squared_error: 0.5311 - val_loss: 0.5020 - val_mean_squared_error: 0.5020\n",
      "Epoch 100/200\n",
      "12/12 - 0s - loss: 0.5303 - mean_squared_error: 0.5303 - val_loss: 0.5034 - val_mean_squared_error: 0.5034\n",
      "Epoch 101/200\n",
      "12/12 - 0s - loss: 0.5303 - mean_squared_error: 0.5303 - val_loss: 0.5038 - val_mean_squared_error: 0.5038\n",
      "Epoch 102/200\n",
      "12/12 - 0s - loss: 0.5302 - mean_squared_error: 0.5302 - val_loss: 0.5052 - val_mean_squared_error: 0.5052\n",
      "Epoch 103/200\n",
      "12/12 - 0s - loss: 0.5300 - mean_squared_error: 0.5300 - val_loss: 0.5049 - val_mean_squared_error: 0.5049\n",
      "Epoch 104/200\n",
      "12/12 - 0s - loss: 0.5296 - mean_squared_error: 0.5296 - val_loss: 0.5037 - val_mean_squared_error: 0.5037\n",
      "Epoch 105/200\n",
      "12/12 - 0s - loss: 0.5296 - mean_squared_error: 0.5296 - val_loss: 0.5030 - val_mean_squared_error: 0.5030\n",
      "Epoch 106/200\n",
      "12/12 - 0s - loss: 0.5300 - mean_squared_error: 0.5300 - val_loss: 0.5037 - val_mean_squared_error: 0.5037\n",
      "Epoch 107/200\n",
      "12/12 - 0s - loss: 0.5296 - mean_squared_error: 0.5296 - val_loss: 0.5047 - val_mean_squared_error: 0.5047\n",
      "Epoch 108/200\n",
      "12/12 - 0s - loss: 0.5293 - mean_squared_error: 0.5293 - val_loss: 0.5050 - val_mean_squared_error: 0.5050\n",
      "Epoch 109/200\n",
      "12/12 - 0s - loss: 0.5295 - mean_squared_error: 0.5295 - val_loss: 0.5054 - val_mean_squared_error: 0.5054\n",
      "Epoch 110/200\n",
      "12/12 - 0s - loss: 0.5292 - mean_squared_error: 0.5292 - val_loss: 0.5050 - val_mean_squared_error: 0.5050\n",
      "Epoch 111/200\n",
      "12/12 - 0s - loss: 0.5291 - mean_squared_error: 0.5291 - val_loss: 0.5059 - val_mean_squared_error: 0.5059\n",
      "Epoch 112/200\n",
      "12/12 - 0s - loss: 0.5289 - mean_squared_error: 0.5289 - val_loss: 0.5056 - val_mean_squared_error: 0.5056\n",
      "Epoch 113/200\n",
      "12/12 - 0s - loss: 0.5285 - mean_squared_error: 0.5285 - val_loss: 0.5045 - val_mean_squared_error: 0.5045\n",
      "Epoch 114/200\n",
      "12/12 - 0s - loss: 0.5288 - mean_squared_error: 0.5288 - val_loss: 0.5036 - val_mean_squared_error: 0.5036\n",
      "Epoch 115/200\n",
      "12/12 - 0s - loss: 0.5282 - mean_squared_error: 0.5282 - val_loss: 0.5030 - val_mean_squared_error: 0.5030\n",
      "Epoch 116/200\n",
      "12/12 - 0s - loss: 0.5282 - mean_squared_error: 0.5282 - val_loss: 0.5026 - val_mean_squared_error: 0.5026\n",
      "Epoch 117/200\n",
      "12/12 - 0s - loss: 0.5278 - mean_squared_error: 0.5278 - val_loss: 0.5016 - val_mean_squared_error: 0.5016\n",
      "Epoch 118/200\n",
      "12/12 - 0s - loss: 0.5277 - mean_squared_error: 0.5277 - val_loss: 0.5021 - val_mean_squared_error: 0.5021\n",
      "Epoch 119/200\n",
      "12/12 - 0s - loss: 0.5278 - mean_squared_error: 0.5278 - val_loss: 0.5027 - val_mean_squared_error: 0.5027\n",
      "Epoch 120/200\n",
      "12/12 - 0s - loss: 0.5277 - mean_squared_error: 0.5277 - val_loss: 0.5025 - val_mean_squared_error: 0.5025\n",
      "Epoch 121/200\n",
      "12/12 - 0s - loss: 0.5274 - mean_squared_error: 0.5274 - val_loss: 0.5010 - val_mean_squared_error: 0.5010\n",
      "Epoch 122/200\n",
      "12/12 - 0s - loss: 0.5275 - mean_squared_error: 0.5275 - val_loss: 0.5019 - val_mean_squared_error: 0.5019\n",
      "Epoch 123/200\n",
      "12/12 - 0s - loss: 0.5270 - mean_squared_error: 0.5270 - val_loss: 0.5027 - val_mean_squared_error: 0.5027\n",
      "Epoch 124/200\n",
      "12/12 - 0s - loss: 0.5267 - mean_squared_error: 0.5267 - val_loss: 0.5006 - val_mean_squared_error: 0.5006\n",
      "Epoch 125/200\n",
      "12/12 - 0s - loss: 0.5268 - mean_squared_error: 0.5268 - val_loss: 0.5006 - val_mean_squared_error: 0.5006\n",
      "Epoch 126/200\n",
      "12/12 - 0s - loss: 0.5264 - mean_squared_error: 0.5264 - val_loss: 0.5022 - val_mean_squared_error: 0.5022\n",
      "Epoch 127/200\n",
      "12/12 - 0s - loss: 0.5266 - mean_squared_error: 0.5266 - val_loss: 0.5036 - val_mean_squared_error: 0.5036\n",
      "Epoch 128/200\n",
      "12/12 - 0s - loss: 0.5264 - mean_squared_error: 0.5264 - val_loss: 0.5030 - val_mean_squared_error: 0.5030\n",
      "Epoch 129/200\n",
      "12/12 - 0s - loss: 0.5263 - mean_squared_error: 0.5263 - val_loss: 0.5021 - val_mean_squared_error: 0.5021\n",
      "Epoch 130/200\n",
      "12/12 - 0s - loss: 0.5261 - mean_squared_error: 0.5261 - val_loss: 0.5004 - val_mean_squared_error: 0.5004\n",
      "Epoch 131/200\n",
      "12/12 - 0s - loss: 0.5262 - mean_squared_error: 0.5262 - val_loss: 0.4986 - val_mean_squared_error: 0.4986\n",
      "Epoch 132/200\n",
      "12/12 - 0s - loss: 0.5256 - mean_squared_error: 0.5256 - val_loss: 0.4961 - val_mean_squared_error: 0.4961\n",
      "Epoch 133/200\n",
      "12/12 - 0s - loss: 0.5255 - mean_squared_error: 0.5255 - val_loss: 0.4947 - val_mean_squared_error: 0.4947\n",
      "Epoch 134/200\n",
      "12/12 - 0s - loss: 0.5263 - mean_squared_error: 0.5263 - val_loss: 0.4933 - val_mean_squared_error: 0.4933\n",
      "Epoch 135/200\n",
      "12/12 - 0s - loss: 0.5254 - mean_squared_error: 0.5254 - val_loss: 0.4927 - val_mean_squared_error: 0.4927\n",
      "Epoch 136/200\n",
      "12/12 - 0s - loss: 0.5251 - mean_squared_error: 0.5251 - val_loss: 0.4906 - val_mean_squared_error: 0.4906\n",
      "Epoch 137/200\n",
      "12/12 - 0s - loss: 0.5249 - mean_squared_error: 0.5249 - val_loss: 0.4911 - val_mean_squared_error: 0.4911\n"
     ]
    },
    {
     "name": "stdout",
     "output_type": "stream",
     "text": [
      "Epoch 138/200\n",
      "12/12 - 0s - loss: 0.5251 - mean_squared_error: 0.5251 - val_loss: 0.4925 - val_mean_squared_error: 0.4925\n",
      "Epoch 139/200\n",
      "12/12 - 0s - loss: 0.5242 - mean_squared_error: 0.5242 - val_loss: 0.4934 - val_mean_squared_error: 0.4934\n",
      "Epoch 140/200\n",
      "12/12 - 0s - loss: 0.5242 - mean_squared_error: 0.5242 - val_loss: 0.4938 - val_mean_squared_error: 0.4938\n",
      "Epoch 141/200\n",
      "12/12 - 0s - loss: 0.5240 - mean_squared_error: 0.5240 - val_loss: 0.4937 - val_mean_squared_error: 0.4937\n",
      "Epoch 142/200\n",
      "12/12 - 0s - loss: 0.5241 - mean_squared_error: 0.5241 - val_loss: 0.4930 - val_mean_squared_error: 0.4930\n",
      "Epoch 143/200\n",
      "12/12 - 0s - loss: 0.5239 - mean_squared_error: 0.5239 - val_loss: 0.4927 - val_mean_squared_error: 0.4927\n",
      "Epoch 144/200\n",
      "12/12 - 0s - loss: 0.5239 - mean_squared_error: 0.5239 - val_loss: 0.4919 - val_mean_squared_error: 0.4919\n",
      "Epoch 145/200\n",
      "12/12 - 0s - loss: 0.5235 - mean_squared_error: 0.5235 - val_loss: 0.4918 - val_mean_squared_error: 0.4918\n",
      "Epoch 146/200\n",
      "12/12 - 0s - loss: 0.5231 - mean_squared_error: 0.5231 - val_loss: 0.4924 - val_mean_squared_error: 0.4924\n",
      "Epoch 147/200\n",
      "12/12 - 0s - loss: 0.5229 - mean_squared_error: 0.5229 - val_loss: 0.4932 - val_mean_squared_error: 0.4932\n",
      "Epoch 148/200\n",
      "12/12 - 0s - loss: 0.5229 - mean_squared_error: 0.5229 - val_loss: 0.4923 - val_mean_squared_error: 0.4923\n",
      "Epoch 149/200\n",
      "12/12 - 0s - loss: 0.5224 - mean_squared_error: 0.5224 - val_loss: 0.4925 - val_mean_squared_error: 0.4925\n",
      "Epoch 150/200\n",
      "12/12 - 0s - loss: 0.5222 - mean_squared_error: 0.5222 - val_loss: 0.4928 - val_mean_squared_error: 0.4928\n",
      "Epoch 151/200\n",
      "12/12 - 0s - loss: 0.5222 - mean_squared_error: 0.5222 - val_loss: 0.4914 - val_mean_squared_error: 0.4914\n",
      "Epoch 152/200\n",
      "12/12 - 0s - loss: 0.5217 - mean_squared_error: 0.5217 - val_loss: 0.4919 - val_mean_squared_error: 0.4919\n",
      "Epoch 153/200\n",
      "12/12 - 0s - loss: 0.5213 - mean_squared_error: 0.5213 - val_loss: 0.4925 - val_mean_squared_error: 0.4925\n",
      "Epoch 154/200\n",
      "12/12 - 0s - loss: 0.5211 - mean_squared_error: 0.5211 - val_loss: 0.4926 - val_mean_squared_error: 0.4926\n",
      "Epoch 155/200\n",
      "12/12 - 0s - loss: 0.5209 - mean_squared_error: 0.5209 - val_loss: 0.4931 - val_mean_squared_error: 0.4931\n",
      "Epoch 156/200\n",
      "12/12 - 0s - loss: 0.5208 - mean_squared_error: 0.5208 - val_loss: 0.4925 - val_mean_squared_error: 0.4925\n",
      "Epoch 157/200\n",
      "12/12 - 0s - loss: 0.5205 - mean_squared_error: 0.5205 - val_loss: 0.4927 - val_mean_squared_error: 0.4927\n",
      "Epoch 158/200\n",
      "12/12 - 0s - loss: 0.5204 - mean_squared_error: 0.5204 - val_loss: 0.4938 - val_mean_squared_error: 0.4938\n",
      "Epoch 159/200\n",
      "12/12 - 0s - loss: 0.5202 - mean_squared_error: 0.5202 - val_loss: 0.4922 - val_mean_squared_error: 0.4922\n",
      "Epoch 160/200\n",
      "12/12 - 0s - loss: 0.5198 - mean_squared_error: 0.5198 - val_loss: 0.4916 - val_mean_squared_error: 0.4916\n",
      "Epoch 161/200\n",
      "12/12 - 0s - loss: 0.5196 - mean_squared_error: 0.5196 - val_loss: 0.4919 - val_mean_squared_error: 0.4919\n",
      "Epoch 162/200\n",
      "12/12 - 0s - loss: 0.5200 - mean_squared_error: 0.5200 - val_loss: 0.4924 - val_mean_squared_error: 0.4924\n",
      "Epoch 163/200\n",
      "12/12 - 0s - loss: 0.5199 - mean_squared_error: 0.5199 - val_loss: 0.4919 - val_mean_squared_error: 0.4919\n",
      "Epoch 164/200\n",
      "12/12 - 0s - loss: 0.5200 - mean_squared_error: 0.5200 - val_loss: 0.4918 - val_mean_squared_error: 0.4918\n",
      "Epoch 165/200\n",
      "12/12 - 0s - loss: 0.5191 - mean_squared_error: 0.5191 - val_loss: 0.4921 - val_mean_squared_error: 0.4921\n",
      "Epoch 166/200\n",
      "12/12 - 0s - loss: 0.5189 - mean_squared_error: 0.5189 - val_loss: 0.4906 - val_mean_squared_error: 0.4906\n",
      "Epoch 167/200\n",
      "12/12 - 0s - loss: 0.5183 - mean_squared_error: 0.5183 - val_loss: 0.4904 - val_mean_squared_error: 0.4904\n",
      "Epoch 168/200\n",
      "12/12 - 0s - loss: 0.5179 - mean_squared_error: 0.5179 - val_loss: 0.4909 - val_mean_squared_error: 0.4909\n",
      "Epoch 169/200\n",
      "12/12 - 0s - loss: 0.5178 - mean_squared_error: 0.5178 - val_loss: 0.4896 - val_mean_squared_error: 0.4896\n",
      "Epoch 170/200\n",
      "12/12 - 0s - loss: 0.5170 - mean_squared_error: 0.5170 - val_loss: 0.4898 - val_mean_squared_error: 0.4898\n",
      "Epoch 171/200\n",
      "12/12 - 0s - loss: 0.5168 - mean_squared_error: 0.5168 - val_loss: 0.4912 - val_mean_squared_error: 0.4912\n",
      "Epoch 172/200\n",
      "12/12 - 0s - loss: 0.5166 - mean_squared_error: 0.5166 - val_loss: 0.4915 - val_mean_squared_error: 0.4915\n",
      "Epoch 173/200\n",
      "12/12 - 0s - loss: 0.5165 - mean_squared_error: 0.5165 - val_loss: 0.4911 - val_mean_squared_error: 0.4911\n",
      "Epoch 174/200\n",
      "12/12 - 0s - loss: 0.5164 - mean_squared_error: 0.5164 - val_loss: 0.4919 - val_mean_squared_error: 0.4919\n",
      "Epoch 175/200\n",
      "12/12 - 0s - loss: 0.5161 - mean_squared_error: 0.5161 - val_loss: 0.4930 - val_mean_squared_error: 0.4930\n",
      "Epoch 176/200\n",
      "12/12 - 0s - loss: 0.5158 - mean_squared_error: 0.5158 - val_loss: 0.4939 - val_mean_squared_error: 0.4939\n",
      "Epoch 177/200\n",
      "12/12 - 0s - loss: 0.5156 - mean_squared_error: 0.5156 - val_loss: 0.4933 - val_mean_squared_error: 0.4933\n",
      "Epoch 178/200\n",
      "12/12 - 0s - loss: 0.5154 - mean_squared_error: 0.5154 - val_loss: 0.4924 - val_mean_squared_error: 0.4924\n",
      "Epoch 179/200\n",
      "12/12 - 0s - loss: 0.5149 - mean_squared_error: 0.5149 - val_loss: 0.4931 - val_mean_squared_error: 0.4931\n",
      "Epoch 180/200\n",
      "12/12 - 0s - loss: 0.5149 - mean_squared_error: 0.5149 - val_loss: 0.4925 - val_mean_squared_error: 0.4925\n",
      "Epoch 181/200\n",
      "12/12 - 0s - loss: 0.5148 - mean_squared_error: 0.5148 - val_loss: 0.4925 - val_mean_squared_error: 0.4925\n",
      "Epoch 182/200\n",
      "12/12 - 0s - loss: 0.5143 - mean_squared_error: 0.5143 - val_loss: 0.4932 - val_mean_squared_error: 0.4932\n",
      "Epoch 183/200\n",
      "12/12 - 0s - loss: 0.5141 - mean_squared_error: 0.5141 - val_loss: 0.4936 - val_mean_squared_error: 0.4936\n",
      "Epoch 184/200\n",
      "12/12 - 0s - loss: 0.5137 - mean_squared_error: 0.5137 - val_loss: 0.4935 - val_mean_squared_error: 0.4935\n",
      "Epoch 185/200\n",
      "12/12 - 0s - loss: 0.5136 - mean_squared_error: 0.5136 - val_loss: 0.4935 - val_mean_squared_error: 0.4935\n",
      "Epoch 186/200\n",
      "12/12 - 0s - loss: 0.5138 - mean_squared_error: 0.5138 - val_loss: 0.4945 - val_mean_squared_error: 0.4945\n",
      "Epoch 187/200\n",
      "12/12 - 0s - loss: 0.5138 - mean_squared_error: 0.5138 - val_loss: 0.4943 - val_mean_squared_error: 0.4943\n",
      "Epoch 188/200\n",
      "12/12 - 0s - loss: 0.5128 - mean_squared_error: 0.5128 - val_loss: 0.4946 - val_mean_squared_error: 0.4946\n",
      "Epoch 189/200\n",
      "12/12 - 0s - loss: 0.5130 - mean_squared_error: 0.5130 - val_loss: 0.4958 - val_mean_squared_error: 0.4958\n",
      "Epoch 190/200\n",
      "12/12 - 0s - loss: 0.5126 - mean_squared_error: 0.5126 - val_loss: 0.4953 - val_mean_squared_error: 0.4953\n",
      "Epoch 191/200\n",
      "12/12 - 0s - loss: 0.5124 - mean_squared_error: 0.5124 - val_loss: 0.4952 - val_mean_squared_error: 0.4952\n",
      "Epoch 192/200\n",
      "12/12 - 0s - loss: 0.5120 - mean_squared_error: 0.5120 - val_loss: 0.4955 - val_mean_squared_error: 0.4955\n",
      "Epoch 193/200\n",
      "12/12 - 0s - loss: 0.5119 - mean_squared_error: 0.5119 - val_loss: 0.4951 - val_mean_squared_error: 0.4951\n",
      "Epoch 194/200\n",
      "12/12 - 0s - loss: 0.5116 - mean_squared_error: 0.5116 - val_loss: 0.4927 - val_mean_squared_error: 0.4927\n",
      "Epoch 195/200\n",
      "12/12 - 0s - loss: 0.5115 - mean_squared_error: 0.5115 - val_loss: 0.4936 - val_mean_squared_error: 0.4936\n",
      "Epoch 196/200\n",
      "12/12 - 0s - loss: 0.5113 - mean_squared_error: 0.5113 - val_loss: 0.4935 - val_mean_squared_error: 0.4935\n",
      "Epoch 197/200\n",
      "12/12 - 0s - loss: 0.5111 - mean_squared_error: 0.5111 - val_loss: 0.4924 - val_mean_squared_error: 0.4924\n",
      "Epoch 198/200\n",
      "12/12 - 0s - loss: 0.5107 - mean_squared_error: 0.5107 - val_loss: 0.4898 - val_mean_squared_error: 0.4898\n",
      "Epoch 199/200\n",
      "12/12 - 0s - loss: 0.5107 - mean_squared_error: 0.5107 - val_loss: 0.4891 - val_mean_squared_error: 0.4891\n",
      "Epoch 200/200\n",
      "12/12 - 0s - loss: 0.5106 - mean_squared_error: 0.5106 - val_loss: 0.4885 - val_mean_squared_error: 0.4885\n",
      "Time for training:    13.3778s\n"
     ]
    }
   ],
   "source": [
    "epochs = 200\n",
    "start_time = time.time()\n",
    "val_split=0.1\n",
    "\n",
    "history_model = model_keras.fit(train_x, train_y,\n",
    "                          epochs=epochs,\n",
    "                          batch_size=32,\n",
    "                          validation_split=val_split, \n",
    "                          shuffle=True,\n",
    "                          verbose=2)\n",
    "\n",
    "end_time = time.time()\n",
    "print(\"Time for training: {:10.4f}s\".format(end_time - start_time))"
   ]
  },
  {
   "cell_type": "markdown",
   "metadata": {},
   "source": [
    "<font size=5 color=\"blue\">\n",
    "\n",
    "Gráfica del costo como función de la época    "
   ]
  },
  {
   "cell_type": "code",
   "execution_count": 49,
   "metadata": {
    "ExecuteTime": {
     "end_time": "2020-10-19T12:30:34.070694Z",
     "start_time": "2020-10-19T12:30:33.937072Z"
    },
    "scrolled": true
   },
   "outputs": [
    {
     "data": {
      "image/png": "[encoded data removed]",
      "text/plain": [
       "<Figure size 432x288 with 1 Axes>"
      ]
     },
     "metadata": {
      "needs_background": "light"
     },
     "output_type": "display_data"
    }
   ],
   "source": [
    "plt.plot(history_model.history['loss'], 'magenta')\n",
    "plt.plot(history_model.history['val_loss'], 'blue')\n",
    "plt.title('Loss function')\n",
    "plt.ylabel('Cost', size=16)\n",
    "plt.xlabel('Epoch', size=16)\n",
    "plt.legend(['Train', 'Validation'], loc='upper right');"
   ]
  },
  {
   "cell_type": "markdown",
   "metadata": {},
   "source": [
    "<font size=5, color=blue>\n",
    "Evaluación del entrenamiento. Se realiza con los datos de prueba."
   ]
  },
  {
   "cell_type": "code",
   "execution_count": 50,
   "metadata": {
    "ExecuteTime": {
     "end_time": "2020-10-19T12:30:34.080939Z",
     "start_time": "2020-10-19T12:30:34.072320Z"
    }
   },
   "outputs": [
    {
     "name": "stdout",
     "output_type": "stream",
     "text": [
      "2/2 [==============================] - 0s 4ms/step - loss: 0.5207 - mean_squared_error: 0.5207\n",
      "Test loss: 0.5207052230834961\n"
     ]
    }
   ],
   "source": [
    "scores = model_keras.evaluate(test_x, test_y)\n",
    "print('Test loss:', scores[0])"
   ]
  },
  {
   "cell_type": "markdown",
   "metadata": {},
   "source": [
    "<font size=5, color=blue>\n",
    "Inferencia"
   ]
  },
  {
   "cell_type": "code",
   "execution_count": 51,
   "metadata": {
    "ExecuteTime": {
     "end_time": "2020-10-19T12:30:34.113953Z",
     "start_time": "2020-10-19T12:30:34.082484Z"
    }
   },
   "outputs": [
    {
     "name": "stdout",
     "output_type": "stream",
     "text": [
      "45\n"
     ]
    }
   ],
   "source": [
    "predictions = model_keras.predict(test_x)\n",
    "print(len(predictions))"
   ]
  },
  {
   "cell_type": "markdown",
   "metadata": {},
   "source": [
    "<font size=5, color=blue>\n",
    "Predicción para el primer paciente del conjunto muestras test_x"
   ]
  },
  {
   "cell_type": "code",
   "execution_count": 52,
   "metadata": {},
   "outputs": [
    {
     "data": {
      "text/plain": [
       "AGE     50.927250\n",
       "SEX      1.556317\n",
       "BMI     27.277828\n",
       "BP      97.216620\n",
       "S1     195.396961\n",
       "S2     121.075395\n",
       "S3      52.226716\n",
       "S4       4.307301\n",
       "S5       4.736336\n",
       "S6      93.300458\n",
       "Y      165.855564\n",
       "dtype: float64"
      ]
     },
     "execution_count": 52,
     "metadata": {},
     "output_type": "execute_result"
    }
   ],
   "source": [
    "predictions[0]*sigma + mu"
   ]
  },
  {
   "cell_type": "code",
   "execution_count": null,
   "metadata": {},
   "outputs": [],
   "source": []
  }
 ],
 "metadata": {
  "kernelspec": {
   "display_name": "Python 3 (ipykernel)",
   "language": "python",
   "name": "python3"
  },
  "language_info": {
   "codemirror_mode": {
    "name": "ipython",
    "version": 3
   },
   "file_extension": ".py",
   "mimetype": "text/x-python",
   "name": "python",
   "nbconvert_exporter": "python",
   "pygments_lexer": "ipython3",
   "version": "3.7.11"
  }
 },
 "nbformat": 4,
 "nbformat_minor": 4
}
